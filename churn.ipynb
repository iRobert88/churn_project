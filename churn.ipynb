{
 "cells": [
  {
   "cell_type": "markdown",
   "metadata": {},
   "source": [
    "# Отток клиентов"
   ]
  },
  {
   "cell_type": "markdown",
   "metadata": {},
   "source": [
    "https://github.com/iRobert88/churn_project.git"
   ]
  },
  {
   "cell_type": "markdown",
   "metadata": {
    "toc": true
   },
   "source": [
    "<h1>Содержание<span class=\"tocSkip\"></span></h1>\n",
    "<div class=\"toc\"><ul class=\"toc-item\"><li><span><a href=\"#Подготовка-данных\" data-toc-modified-id=\"Подготовка-данных-1\"><span class=\"toc-item-num\">1&nbsp;&nbsp;</span>Подготовка данных</a></span><ul class=\"toc-item\"><li><span><a href=\"#Изучим-имеющиеся-данные\" data-toc-modified-id=\"Изучим-имеющиеся-данные-1.1\"><span class=\"toc-item-num\">1.1&nbsp;&nbsp;</span>Изучим имеющиеся данные</a></span></li><li><span><a href=\"#Проведем-предварительную-обработку-данных\" data-toc-modified-id=\"Проведем-предварительную-обработку-данных-1.2\"><span class=\"toc-item-num\">1.2&nbsp;&nbsp;</span>Проведем предварительную обработку данных</a></span><ul class=\"toc-item\"><li><span><a href=\"#Рассмотрим-признак-с-пропущенными-значениями\" data-toc-modified-id=\"Рассмотрим-признак-с-пропущенными-значениями-1.2.1\"><span class=\"toc-item-num\">1.2.1&nbsp;&nbsp;</span>Рассмотрим признак с пропущенными значениями</a></span></li><li><span><a href=\"#Рассмотрим-вспомагательные-и-категориальные-признаки\" data-toc-modified-id=\"Рассмотрим-вспомагательные-и-категориальные-признаки-1.2.2\"><span class=\"toc-item-num\">1.2.2&nbsp;&nbsp;</span>Рассмотрим вспомагательные и категориальные признаки</a></span></li><li><span><a href=\"#Изучим-возможность-снижения-размерности-числовых-признаков-Balance-и-EstimatedSalary\" data-toc-modified-id=\"Изучим-возможность-снижения-размерности-числовых-признаков-Balance-и-EstimatedSalary-1.2.3\"><span class=\"toc-item-num\">1.2.3&nbsp;&nbsp;</span>Изучим возможность снижения размерности числовых признаков <code>Balance</code> и <code>EstimatedSalary</code></a></span></li><li><span><a href=\"#Проверим-признаки-на-адекватность-значений\" data-toc-modified-id=\"Проверим-признаки-на-адекватность-значений-1.2.4\"><span class=\"toc-item-num\">1.2.4&nbsp;&nbsp;</span>Проверим признаки на адекватность значений</a></span></li></ul></li><li><span><a href=\"#Разобьем-данные-на-выборки\" data-toc-modified-id=\"Разобьем-данные-на-выборки-1.3\"><span class=\"toc-item-num\">1.3&nbsp;&nbsp;</span>Разобьем данные на выборки</a></span></li></ul></li><li><span><a href=\"#Исследование-задачи\" data-toc-modified-id=\"Исследование-задачи-2\"><span class=\"toc-item-num\">2&nbsp;&nbsp;</span>Исследование задачи</a></span><ul class=\"toc-item\"><li><span><a href=\"#Модель-логистической-регресии\" data-toc-modified-id=\"Модель-логистической-регресии-2.1\"><span class=\"toc-item-num\">2.1&nbsp;&nbsp;</span>Модель логистической регресии</a></span></li></ul></li><li><span><a href=\"#Балансировка-классов\" data-toc-modified-id=\"Балансировка-классов-3\"><span class=\"toc-item-num\">3&nbsp;&nbsp;</span>Балансировка классов</a></span><ul class=\"toc-item\"><li><span><a href=\"#Балансировка-классов-методом-upsampling\" data-toc-modified-id=\"Балансировка-классов-методом-upsampling-3.1\"><span class=\"toc-item-num\">3.1&nbsp;&nbsp;</span>Балансировка классов методом upsampling</a></span></li><li><span><a href=\"#Балансировка-классов-методом-downsample\" data-toc-modified-id=\"Балансировка-классов-методом-downsample-3.2\"><span class=\"toc-item-num\">3.2&nbsp;&nbsp;</span>Балансировка классов методом downsample</a></span></li></ul></li><li><span><a href=\"#Исследование-моделей-на-сбалансированных-выборках\" data-toc-modified-id=\"Исследование-моделей-на-сбалансированных-выборках-4\"><span class=\"toc-item-num\">4&nbsp;&nbsp;</span>Исследование моделей на сбалансированных выборках</a></span><ul class=\"toc-item\"><li><span><a href=\"#Модель-логистической-регрессии\" data-toc-modified-id=\"Модель-логистической-регрессии-4.1\"><span class=\"toc-item-num\">4.1&nbsp;&nbsp;</span>Модель логистической регрессии</a></span><ul class=\"toc-item\"><li><span><a href=\"#На-выборках,-сбалансированных-методом-upsample\" data-toc-modified-id=\"На-выборках,-сбалансированных-методом-upsample-4.1.1\"><span class=\"toc-item-num\">4.1.1&nbsp;&nbsp;</span>На выборках, сбалансированных методом upsample</a></span></li><li><span><a href=\"#На-выборках,-сбалансированных-методом-downsample\" data-toc-modified-id=\"На-выборках,-сбалансированных-методом-downsample-4.1.2\"><span class=\"toc-item-num\">4.1.2&nbsp;&nbsp;</span>На выборках, сбалансированных методом downsample</a></span></li><li><span><a href=\"#Изучим-возможность-изменения-порога-классификации-для-улучшения-показателей-на-валидационной-выборке\" data-toc-modified-id=\"Изучим-возможность-изменения-порога-классификации-для-улучшения-показателей-на-валидационной-выборке-4.1.3\"><span class=\"toc-item-num\">4.1.3&nbsp;&nbsp;</span>Изучим возможность изменения порога классификации для улучшения показателей на валидационной выборке</a></span></li></ul></li><li><span><a href=\"#Модель-решающего-дерева-для-задачи-классификации\" data-toc-modified-id=\"Модель-решающего-дерева-для-задачи-классификации-4.2\"><span class=\"toc-item-num\">4.2&nbsp;&nbsp;</span>Модель решающего дерева для задачи классификации</a></span><ul class=\"toc-item\"><li><span><a href=\"#На-выборках,-сбалансированных-методом-upsample\" data-toc-modified-id=\"На-выборках,-сбалансированных-методом-upsample-4.2.1\"><span class=\"toc-item-num\">4.2.1&nbsp;&nbsp;</span>На выборках, сбалансированных методом upsample</a></span></li><li><span><a href=\"#На-выборках,-сбалансированных-методом-downsample\" data-toc-modified-id=\"На-выборках,-сбалансированных-методом-downsample-4.2.2\"><span class=\"toc-item-num\">4.2.2&nbsp;&nbsp;</span>На выборках, сбалансированных методом downsample</a></span></li><li><span><a href=\"#Изучим-возможность-изменения-порога-классификации-для-улучшения-показателей-на-валидационной-выборке\" data-toc-modified-id=\"Изучим-возможность-изменения-порога-классификации-для-улучшения-показателей-на-валидационной-выборке-4.2.3\"><span class=\"toc-item-num\">4.2.3&nbsp;&nbsp;</span>Изучим возможность изменения порога классификации для улучшения показателей на валидационной выборке</a></span></li></ul></li><li><span><a href=\"#Модель-случайного-леса-для-задачи-классификации\" data-toc-modified-id=\"Модель-случайного-леса-для-задачи-классификации-4.3\"><span class=\"toc-item-num\">4.3&nbsp;&nbsp;</span>Модель случайного леса для задачи классификации</a></span><ul class=\"toc-item\"><li><span><a href=\"#На-выборках,-сбалансированных-методом-upsample\" data-toc-modified-id=\"На-выборках,-сбалансированных-методом-upsample-4.3.1\"><span class=\"toc-item-num\">4.3.1&nbsp;&nbsp;</span>На выборках, сбалансированных методом upsample</a></span></li><li><span><a href=\"#На-выборках,-сбалансированных-методом-downsample\" data-toc-modified-id=\"На-выборках,-сбалансированных-методом-downsample-4.3.2\"><span class=\"toc-item-num\">4.3.2&nbsp;&nbsp;</span>На выборках, сбалансированных методом downsample</a></span></li><li><span><a href=\"#Изучим-возможность-изменения-порога-классификации-для-улучшения-показателей-на-валидационной-выборке\" data-toc-modified-id=\"Изучим-возможность-изменения-порога-классификации-для-улучшения-показателей-на-валидационной-выборке-4.3.3\"><span class=\"toc-item-num\">4.3.3&nbsp;&nbsp;</span>Изучим возможность изменения порога классификации для улучшения показателей на валидационной выборке</a></span></li></ul></li><li><span><a href=\"#Модель-градиентного-бустинга-для-задачи-классификации\" data-toc-modified-id=\"Модель-градиентного-бустинга-для-задачи-классификации-4.4\"><span class=\"toc-item-num\">4.4&nbsp;&nbsp;</span>Модель градиентного бустинга для задачи классификации</a></span><ul class=\"toc-item\"><li><span><a href=\"#На-выборках,-сбалансированных-методом-upsample\" data-toc-modified-id=\"На-выборках,-сбалансированных-методом-upsample-4.4.1\"><span class=\"toc-item-num\">4.4.1&nbsp;&nbsp;</span>На выборках, сбалансированных методом upsample</a></span></li><li><span><a href=\"#На-выборках,-сбалансированных-методом-downsample\" data-toc-modified-id=\"На-выборках,-сбалансированных-методом-downsample-4.4.2\"><span class=\"toc-item-num\">4.4.2&nbsp;&nbsp;</span>На выборках, сбалансированных методом downsample</a></span></li><li><span><a href=\"#Изучим-возможность-изменения-порога-классификации-для-улучшения-показателей-на-валидационной-выборке\" data-toc-modified-id=\"Изучим-возможность-изменения-порога-классификации-для-улучшения-показателей-на-валидационной-выборке-4.4.3\"><span class=\"toc-item-num\">4.4.3&nbsp;&nbsp;</span>Изучим возможность изменения порога классификации для улучшения показателей на валидационной выборке</a></span></li></ul></li><li><span><a href=\"#Результаты-исследования-моделей\" data-toc-modified-id=\"Результаты-исследования-моделей-4.5\"><span class=\"toc-item-num\">4.5&nbsp;&nbsp;</span>Результаты исследования моделей</a></span></li></ul></li><li><span><a href=\"#Тестирование-моделей\" data-toc-modified-id=\"Тестирование-моделей-5\"><span class=\"toc-item-num\">5&nbsp;&nbsp;</span>Тестирование моделей</a></span></li><li><span><a href=\"#Чек-лист-готовности-проекта\" data-toc-modified-id=\"Чек-лист-готовности-проекта-6\"><span class=\"toc-item-num\">6&nbsp;&nbsp;</span>Чек-лист готовности проекта</a></span></li></ul></div>"
   ]
  },
  {
   "cell_type": "markdown",
   "metadata": {},
   "source": [
    "Из «Бета-Банка» стали уходить клиенты. Каждый месяц. Немного, но заметно. Банковские маркетологи посчитали: сохранять текущих клиентов дешевле, чем привлекать новых.\n",
    "\n",
    "В нашем распоряжении исторические данные о поведении клиентов и расторжении договоров с банком, где:\n",
    "\n",
    "* `RowNumber` — индекс строки в данных\n",
    "* `CustomerId` — уникальный идентификатор клиента\n",
    "* `Surname` — фамилия\n",
    "* `CreditScore` — кредитный рейтинг\n",
    "* `Geography` — страна проживания\n",
    "* `Gender` — пол\n",
    "* `Age` — возраст\n",
    "* `Tenure` — сколько лет человек является клиентом банка\n",
    "* `Balance` — баланс на счёте\n",
    "* `NumOfProducts` — количество продуктов банка, используемых клиентом\n",
    "* `HasCrCard` — наличие кредитной карты\n",
    "* `IsActiveMember` — активность клиента\n",
    "* `EstimatedSalary` — предполагаемая зарплата\n",
    "\n",
    "Целевой признак\n",
    "* `Exited` — факт ухода клиента\n",
    "\n",
    "Проведем анализ имеющихся данных и на их основе построим модели машинного обучения для прогнозирования уйдёт клиент из банка в ближайшее время или нет."
   ]
  },
  {
   "cell_type": "code",
   "execution_count": 82,
   "metadata": {},
   "outputs": [],
   "source": [
    "import pandas as pd\n",
    "import numpy as np\n",
    "import matplotlib.pyplot as plt\n",
    "\n",
    "from sklearn.model_selection import train_test_split\n",
    "\n",
    "from sklearn.linear_model import LogisticRegression\n",
    "from sklearn.tree import DecisionTreeClassifier\n",
    "from sklearn.ensemble import RandomForestClassifier, GradientBoostingClassifier\n",
    "\n",
    "from sklearn.preprocessing import StandardScaler\n",
    "\n",
    "from sklearn.model_selection import GridSearchCV, RandomizedSearchCV\n",
    "\n",
    "from sklearn.metrics import f1_score, recall_score, roc_auc_score, accuracy_score, confusion_matrix \n",
    "\n",
    "from sklearn.utils import shuffle\n",
    "\n",
    "pd.set_option('display.float_format', lambda x: '%.4f' % x)\n",
    "import warnings\n",
    "import copy\n",
    "warnings.filterwarnings('ignore')"
   ]
  },
  {
   "cell_type": "markdown",
   "metadata": {},
   "source": [
    "## Подготовка данных"
   ]
  },
  {
   "cell_type": "markdown",
   "metadata": {},
   "source": [
    "### Изучим имеющиеся данные"
   ]
  },
  {
   "cell_type": "code",
   "execution_count": 83,
   "metadata": {},
   "outputs": [],
   "source": [
    "try:\n",
    "    data_raw = pd.read_csv('C:/Users/Student/Desktop/dataset.csv')\n",
    "except:\n",
    "    data_raw = pd.read_csv('/datasets/Churn.csv')"
   ]
  },
  {
   "cell_type": "code",
   "execution_count": 84,
   "metadata": {
    "scrolled": false
   },
   "outputs": [
    {
     "name": "stdout",
     "output_type": "stream",
     "text": [
      "<class 'pandas.core.frame.DataFrame'>\n",
      "RangeIndex: 10000 entries, 0 to 9999\n",
      "Data columns (total 14 columns):\n",
      " #   Column           Non-Null Count  Dtype  \n",
      "---  ------           --------------  -----  \n",
      " 0   RowNumber        10000 non-null  int64  \n",
      " 1   CustomerId       10000 non-null  int64  \n",
      " 2   Surname          10000 non-null  object \n",
      " 3   CreditScore      10000 non-null  int64  \n",
      " 4   Geography        10000 non-null  object \n",
      " 5   Gender           10000 non-null  object \n",
      " 6   Age              10000 non-null  int64  \n",
      " 7   Tenure           9091 non-null   float64\n",
      " 8   Balance          10000 non-null  float64\n",
      " 9   NumOfProducts    10000 non-null  int64  \n",
      " 10  HasCrCard        10000 non-null  int64  \n",
      " 11  IsActiveMember   10000 non-null  int64  \n",
      " 12  EstimatedSalary  10000 non-null  float64\n",
      " 13  Exited           10000 non-null  int64  \n",
      "dtypes: float64(3), int64(8), object(3)\n",
      "memory usage: 1.1+ MB\n"
     ]
    }
   ],
   "source": [
    "data_raw.info()"
   ]
  },
  {
   "cell_type": "code",
   "execution_count": 85,
   "metadata": {},
   "outputs": [
    {
     "data": {
      "text/html": [
       "<div>\n",
       "<style scoped>\n",
       "    .dataframe tbody tr th:only-of-type {\n",
       "        vertical-align: middle;\n",
       "    }\n",
       "\n",
       "    .dataframe tbody tr th {\n",
       "        vertical-align: top;\n",
       "    }\n",
       "\n",
       "    .dataframe thead th {\n",
       "        text-align: right;\n",
       "    }\n",
       "</style>\n",
       "<table border=\"1\" class=\"dataframe\">\n",
       "  <thead>\n",
       "    <tr style=\"text-align: right;\">\n",
       "      <th></th>\n",
       "      <th>RowNumber</th>\n",
       "      <th>CustomerId</th>\n",
       "      <th>Surname</th>\n",
       "      <th>CreditScore</th>\n",
       "      <th>Geography</th>\n",
       "      <th>Gender</th>\n",
       "      <th>Age</th>\n",
       "      <th>Tenure</th>\n",
       "      <th>Balance</th>\n",
       "      <th>NumOfProducts</th>\n",
       "      <th>HasCrCard</th>\n",
       "      <th>IsActiveMember</th>\n",
       "      <th>EstimatedSalary</th>\n",
       "      <th>Exited</th>\n",
       "    </tr>\n",
       "  </thead>\n",
       "  <tbody>\n",
       "    <tr>\n",
       "      <th>0</th>\n",
       "      <td>1</td>\n",
       "      <td>15634602</td>\n",
       "      <td>Hargrave</td>\n",
       "      <td>619</td>\n",
       "      <td>France</td>\n",
       "      <td>Female</td>\n",
       "      <td>42</td>\n",
       "      <td>2.0000</td>\n",
       "      <td>0.0000</td>\n",
       "      <td>1</td>\n",
       "      <td>1</td>\n",
       "      <td>1</td>\n",
       "      <td>101348.8800</td>\n",
       "      <td>1</td>\n",
       "    </tr>\n",
       "    <tr>\n",
       "      <th>1</th>\n",
       "      <td>2</td>\n",
       "      <td>15647311</td>\n",
       "      <td>Hill</td>\n",
       "      <td>608</td>\n",
       "      <td>Spain</td>\n",
       "      <td>Female</td>\n",
       "      <td>41</td>\n",
       "      <td>1.0000</td>\n",
       "      <td>83807.8600</td>\n",
       "      <td>1</td>\n",
       "      <td>0</td>\n",
       "      <td>1</td>\n",
       "      <td>112542.5800</td>\n",
       "      <td>0</td>\n",
       "    </tr>\n",
       "    <tr>\n",
       "      <th>2</th>\n",
       "      <td>3</td>\n",
       "      <td>15619304</td>\n",
       "      <td>Onio</td>\n",
       "      <td>502</td>\n",
       "      <td>France</td>\n",
       "      <td>Female</td>\n",
       "      <td>42</td>\n",
       "      <td>8.0000</td>\n",
       "      <td>159660.8000</td>\n",
       "      <td>3</td>\n",
       "      <td>1</td>\n",
       "      <td>0</td>\n",
       "      <td>113931.5700</td>\n",
       "      <td>1</td>\n",
       "    </tr>\n",
       "    <tr>\n",
       "      <th>3</th>\n",
       "      <td>4</td>\n",
       "      <td>15701354</td>\n",
       "      <td>Boni</td>\n",
       "      <td>699</td>\n",
       "      <td>France</td>\n",
       "      <td>Female</td>\n",
       "      <td>39</td>\n",
       "      <td>1.0000</td>\n",
       "      <td>0.0000</td>\n",
       "      <td>2</td>\n",
       "      <td>0</td>\n",
       "      <td>0</td>\n",
       "      <td>93826.6300</td>\n",
       "      <td>0</td>\n",
       "    </tr>\n",
       "    <tr>\n",
       "      <th>4</th>\n",
       "      <td>5</td>\n",
       "      <td>15737888</td>\n",
       "      <td>Mitchell</td>\n",
       "      <td>850</td>\n",
       "      <td>Spain</td>\n",
       "      <td>Female</td>\n",
       "      <td>43</td>\n",
       "      <td>2.0000</td>\n",
       "      <td>125510.8200</td>\n",
       "      <td>1</td>\n",
       "      <td>1</td>\n",
       "      <td>1</td>\n",
       "      <td>79084.1000</td>\n",
       "      <td>0</td>\n",
       "    </tr>\n",
       "  </tbody>\n",
       "</table>\n",
       "</div>"
      ],
      "text/plain": [
       "   RowNumber  CustomerId   Surname  CreditScore Geography  Gender  Age  \\\n",
       "0          1    15634602  Hargrave          619    France  Female   42   \n",
       "1          2    15647311      Hill          608     Spain  Female   41   \n",
       "2          3    15619304      Onio          502    France  Female   42   \n",
       "3          4    15701354      Boni          699    France  Female   39   \n",
       "4          5    15737888  Mitchell          850     Spain  Female   43   \n",
       "\n",
       "   Tenure     Balance  NumOfProducts  HasCrCard  IsActiveMember  \\\n",
       "0  2.0000      0.0000              1          1               1   \n",
       "1  1.0000  83807.8600              1          0               1   \n",
       "2  8.0000 159660.8000              3          1               0   \n",
       "3  1.0000      0.0000              2          0               0   \n",
       "4  2.0000 125510.8200              1          1               1   \n",
       "\n",
       "   EstimatedSalary  Exited  \n",
       "0      101348.8800       1  \n",
       "1      112542.5800       0  \n",
       "2      113931.5700       1  \n",
       "3       93826.6300       0  \n",
       "4       79084.1000       0  "
      ]
     },
     "execution_count": 85,
     "metadata": {},
     "output_type": "execute_result"
    }
   ],
   "source": [
    "data_raw.head()"
   ]
  },
  {
   "cell_type": "code",
   "execution_count": 86,
   "metadata": {},
   "outputs": [
    {
     "data": {
      "text/plain": [
       "France     5014\n",
       "Germany    2509\n",
       "Spain      2477\n",
       "Name: Geography, dtype: int64"
      ]
     },
     "execution_count": 86,
     "metadata": {},
     "output_type": "execute_result"
    }
   ],
   "source": [
    "# Перечень предстваленных стран\n",
    "data_raw['Geography'].value_counts()"
   ]
  },
  {
   "cell_type": "code",
   "execution_count": 87,
   "metadata": {},
   "outputs": [
    {
     "data": {
      "text/plain": [
       "Male      5457\n",
       "Female    4543\n",
       "Name: Gender, dtype: int64"
      ]
     },
     "execution_count": 87,
     "metadata": {},
     "output_type": "execute_result"
    }
   ],
   "source": [
    "data_raw['Gender'].value_counts()"
   ]
  },
  {
   "cell_type": "code",
   "execution_count": 88,
   "metadata": {},
   "outputs": [
    {
     "name": "stdout",
     "output_type": "stream",
     "text": [
      "0\n",
      "0\n",
      "0\n"
     ]
    }
   ],
   "source": [
    "#Проверим данные на наличие полных дубликатов\n",
    "print(data_raw.duplicated().sum())\n",
    "print(data_raw.iloc[:, 1:].duplicated().sum())\n",
    "print(data_raw.iloc[:, 2:].duplicated().sum())"
   ]
  },
  {
   "cell_type": "markdown",
   "metadata": {},
   "source": [
    "В наборе данных 10000 объектов и 14 признаков, 3 из которых категориальные. Дубликаты отсутсвуют.\n",
    "\n",
    "В признаке `Tenure` отсутсвует часть данных (есть пропуски).\n",
    "\n",
    "В данных предствлена информация о клиентах из трех стран (Франция, Германия, Испания). При этом клиентов из Франции в два раза больше чем из Германии и Испании.\n",
    "\n",
    "Клиенты мужского и женского пола предствалены более менее равномерно."
   ]
  },
  {
   "cell_type": "markdown",
   "metadata": {},
   "source": [
    "### Проведем предварительную обработку данных"
   ]
  },
  {
   "cell_type": "markdown",
   "metadata": {},
   "source": [
    "#### Рассмотрим признак с пропущенными значениями"
   ]
  },
  {
   "cell_type": "code",
   "execution_count": 89,
   "metadata": {},
   "outputs": [
    {
     "data": {
      "text/plain": [
       "array([ 2.,  1.,  8.,  7.,  4.,  6.,  3., 10.,  5.,  9.,  0., nan])"
      ]
     },
     "execution_count": 89,
     "metadata": {},
     "output_type": "execute_result"
    }
   ],
   "source": [
    "data_raw['Tenure'].unique()"
   ]
  },
  {
   "cell_type": "code",
   "execution_count": 90,
   "metadata": {},
   "outputs": [
    {
     "data": {
      "text/plain": [
       "0.0909"
      ]
     },
     "execution_count": 90,
     "metadata": {},
     "output_type": "execute_result"
    }
   ],
   "source": [
    "data_raw['Tenure'].isna().mean()"
   ]
  },
  {
   "cell_type": "code",
   "execution_count": 91,
   "metadata": {},
   "outputs": [
    {
     "data": {
      "text/plain": [
       "France     464\n",
       "Spain      229\n",
       "Germany    216\n",
       "Name: Geography, dtype: int64"
      ]
     },
     "execution_count": 91,
     "metadata": {},
     "output_type": "execute_result"
    }
   ],
   "source": [
    "data_raw[data_raw['Tenure'].isna()]['Geography'].value_counts()"
   ]
  },
  {
   "cell_type": "code",
   "execution_count": 92,
   "metadata": {},
   "outputs": [
    {
     "data": {
      "text/plain": [
       "Male      483\n",
       "Female    426\n",
       "Name: Gender, dtype: int64"
      ]
     },
     "execution_count": 92,
     "metadata": {},
     "output_type": "execute_result"
    }
   ],
   "source": [
    "data_raw[data_raw['Tenure'].isna()]['Gender'].value_counts()"
   ]
  },
  {
   "cell_type": "markdown",
   "metadata": {},
   "source": [
    "Признак принимает 11 уникальных значений и содержит 9% пропусков.\n",
    "\n",
    "По значениям признаков `Geography` и `Gender` пропуски распределены в целом пропорционально их общему распределению. \n",
    "\n",
    "Учитывая отсутвие возможности объективного заполнения пропущенных значений и их незначительное количество, целесообразно удалить соответствующие объекты.  "
   ]
  },
  {
   "cell_type": "code",
   "execution_count": 93,
   "metadata": {},
   "outputs": [
    {
     "name": "stdout",
     "output_type": "stream",
     "text": [
      "<class 'pandas.core.frame.DataFrame'>\n",
      "Int64Index: 9091 entries, 0 to 9998\n",
      "Data columns (total 14 columns):\n",
      " #   Column           Non-Null Count  Dtype  \n",
      "---  ------           --------------  -----  \n",
      " 0   RowNumber        9091 non-null   int64  \n",
      " 1   CustomerId       9091 non-null   int64  \n",
      " 2   Surname          9091 non-null   object \n",
      " 3   CreditScore      9091 non-null   int64  \n",
      " 4   Geography        9091 non-null   object \n",
      " 5   Gender           9091 non-null   object \n",
      " 6   Age              9091 non-null   int64  \n",
      " 7   Tenure           9091 non-null   float64\n",
      " 8   Balance          9091 non-null   float64\n",
      " 9   NumOfProducts    9091 non-null   int64  \n",
      " 10  HasCrCard        9091 non-null   int64  \n",
      " 11  IsActiveMember   9091 non-null   int64  \n",
      " 12  EstimatedSalary  9091 non-null   float64\n",
      " 13  Exited           9091 non-null   int64  \n",
      "dtypes: float64(3), int64(8), object(3)\n",
      "memory usage: 1.0+ MB\n"
     ]
    }
   ],
   "source": [
    "#Удалим объекты с пропущенными значенями в признаке 'Tenure'\n",
    "data = data_raw.dropna(subset=['Tenure'])\n",
    "data.info()"
   ]
  },
  {
   "cell_type": "markdown",
   "metadata": {},
   "source": [
    "#### Рассмотрим вспомагательные и категориальные признаки  "
   ]
  },
  {
   "cell_type": "markdown",
   "metadata": {},
   "source": [
    "Признаки `RowNumber`, `CustomerId` и `Surname` по своей сути не могут влиять на значения целевого признака. Эти признаки целесообразно исключить из набора данных."
   ]
  },
  {
   "cell_type": "code",
   "execution_count": 94,
   "metadata": {},
   "outputs": [
    {
     "name": "stdout",
     "output_type": "stream",
     "text": [
      "<class 'pandas.core.frame.DataFrame'>\n",
      "Int64Index: 9091 entries, 0 to 9998\n",
      "Data columns (total 11 columns):\n",
      " #   Column           Non-Null Count  Dtype  \n",
      "---  ------           --------------  -----  \n",
      " 0   CreditScore      9091 non-null   int64  \n",
      " 1   Geography        9091 non-null   object \n",
      " 2   Gender           9091 non-null   object \n",
      " 3   Age              9091 non-null   int64  \n",
      " 4   Tenure           9091 non-null   float64\n",
      " 5   Balance          9091 non-null   float64\n",
      " 6   NumOfProducts    9091 non-null   int64  \n",
      " 7   HasCrCard        9091 non-null   int64  \n",
      " 8   IsActiveMember   9091 non-null   int64  \n",
      " 9   EstimatedSalary  9091 non-null   float64\n",
      " 10  Exited           9091 non-null   int64  \n",
      "dtypes: float64(3), int64(6), object(2)\n",
      "memory usage: 852.3+ KB\n"
     ]
    }
   ],
   "source": [
    "data = data.iloc[:, 3:].copy()\n",
    "data.info()"
   ]
  },
  {
   "cell_type": "markdown",
   "metadata": {},
   "source": [
    "После исключения незначимых признаков в данных осталось 2 каториальных признака. \n",
    "\n",
    "Осуществим их преобразование методом прямого кодирования.   "
   ]
  },
  {
   "cell_type": "code",
   "execution_count": 95,
   "metadata": {},
   "outputs": [],
   "source": [
    "data = pd.get_dummies(data, drop_first=True)"
   ]
  },
  {
   "cell_type": "code",
   "execution_count": 96,
   "metadata": {
    "scrolled": true
   },
   "outputs": [
    {
     "name": "stdout",
     "output_type": "stream",
     "text": [
      "<class 'pandas.core.frame.DataFrame'>\n",
      "Int64Index: 9091 entries, 0 to 9998\n",
      "Data columns (total 12 columns):\n",
      " #   Column             Non-Null Count  Dtype  \n",
      "---  ------             --------------  -----  \n",
      " 0   CreditScore        9091 non-null   int64  \n",
      " 1   Age                9091 non-null   int64  \n",
      " 2   Tenure             9091 non-null   float64\n",
      " 3   Balance            9091 non-null   float64\n",
      " 4   NumOfProducts      9091 non-null   int64  \n",
      " 5   HasCrCard          9091 non-null   int64  \n",
      " 6   IsActiveMember     9091 non-null   int64  \n",
      " 7   EstimatedSalary    9091 non-null   float64\n",
      " 8   Exited             9091 non-null   int64  \n",
      " 9   Geography_Germany  9091 non-null   uint8  \n",
      " 10  Geography_Spain    9091 non-null   uint8  \n",
      " 11  Gender_Male        9091 non-null   uint8  \n",
      "dtypes: float64(3), int64(6), uint8(3)\n",
      "memory usage: 736.9 KB\n"
     ]
    }
   ],
   "source": [
    "data.info()"
   ]
  },
  {
   "cell_type": "markdown",
   "metadata": {},
   "source": [
    "В обработанном наборе данных:\n",
    "- 9091 объект\n",
    "- 12 признаков, т.ч. целевой\n",
    "- пропуски отсутсвуют\n",
    "- все признаки принимают числовые значения."
   ]
  },
  {
   "cell_type": "markdown",
   "metadata": {},
   "source": [
    "#### Изучим возможность снижения размерности числовых признаков `Balance` и `EstimatedSalary`"
   ]
  },
  {
   "cell_type": "code",
   "execution_count": 97,
   "metadata": {},
   "outputs": [
    {
     "data": {
      "text/plain": [
       "count     9091.0000\n",
       "mean     76522.7400\n",
       "std      62329.5286\n",
       "min          0.0000\n",
       "25%          0.0000\n",
       "50%      97318.2500\n",
       "75%     127561.8900\n",
       "max     250898.0900\n",
       "Name: Balance, dtype: float64"
      ]
     },
     "execution_count": 97,
     "metadata": {},
     "output_type": "execute_result"
    }
   ],
   "source": [
    "data['Balance'].describe()"
   ]
  },
  {
   "cell_type": "code",
   "execution_count": 98,
   "metadata": {
    "scrolled": true
   },
   "outputs": [
    {
     "data": {
      "text/plain": [
       "count     9091.0000\n",
       "mean    100181.2149\n",
       "std      57624.7556\n",
       "min         11.5800\n",
       "25%      51227.7450\n",
       "50%     100240.2000\n",
       "75%     149567.2100\n",
       "max     199992.4800\n",
       "Name: EstimatedSalary, dtype: float64"
      ]
     },
     "execution_count": 98,
     "metadata": {},
     "output_type": "execute_result"
    }
   ],
   "source": [
    "data['EstimatedSalary'].describe()"
   ]
  },
  {
   "cell_type": "markdown",
   "metadata": {},
   "source": [
    "Снизим размерность значений указанных признаков в 1000 раз и округлим до десятых. "
   ]
  },
  {
   "cell_type": "code",
   "execution_count": 99,
   "metadata": {},
   "outputs": [
    {
     "data": {
      "text/plain": [
       "count   9091.0000\n",
       "mean      76.5229\n",
       "std       62.3297\n",
       "min        0.0000\n",
       "25%        0.0000\n",
       "50%       97.3000\n",
       "75%      127.6000\n",
       "max      250.9000\n",
       "Name: Balance, dtype: float64"
      ]
     },
     "execution_count": 99,
     "metadata": {},
     "output_type": "execute_result"
    }
   ],
   "source": [
    "data['Balance'] = round(data['Balance'] / 1000, 1)\n",
    "data['Balance'].describe()"
   ]
  },
  {
   "cell_type": "code",
   "execution_count": 100,
   "metadata": {},
   "outputs": [
    {
     "data": {
      "text/plain": [
       "count   9091.0000\n",
       "mean     100.1817\n",
       "std       57.6247\n",
       "min        0.0000\n",
       "25%       51.2000\n",
       "50%      100.2000\n",
       "75%      149.6000\n",
       "max      200.0000\n",
       "Name: EstimatedSalary, dtype: float64"
      ]
     },
     "execution_count": 100,
     "metadata": {},
     "output_type": "execute_result"
    }
   ],
   "source": [
    "data['EstimatedSalary'] = round(data['EstimatedSalary'] / 1000, 1)\n",
    "data['EstimatedSalary'].describe()"
   ]
  },
  {
   "cell_type": "markdown",
   "metadata": {},
   "source": [
    "#### Проверим признаки на адекватность значений"
   ]
  },
  {
   "cell_type": "code",
   "execution_count": 101,
   "metadata": {},
   "outputs": [
    {
     "data": {
      "image/png": "[encoded data removed]",
      "text/plain": [
       "<Figure size 720x720 with 12 Axes>"
      ]
     },
     "metadata": {
      "needs_background": "light"
     },
     "output_type": "display_data"
    }
   ],
   "source": [
    "data.hist(figsize=(10, 10));"
   ]
  },
  {
   "cell_type": "markdown",
   "metadata": {},
   "source": [
    "Аномалий в значениях признаков не наблюдается.\n",
    "\n",
    "Следует отметить, что данные не сбалансированы по значению целевого признака. Количество объектов, относящихся к \"положительному классу\" меньше количества \"отрицательных\" почти в 4 раза).\n",
    "\n",
    "Для оптимизации работы алгоритмов размерность признаков `Balance` и `EstimatedSalary` снижена в 1000 раз. "
   ]
  },
  {
   "cell_type": "markdown",
   "metadata": {},
   "source": [
    "### Разобьем данные на выборки "
   ]
  },
  {
   "cell_type": "code",
   "execution_count": 102,
   "metadata": {},
   "outputs": [
    {
     "data": {
      "text/plain": [
       "(9091, 11)"
      ]
     },
     "execution_count": 102,
     "metadata": {},
     "output_type": "execute_result"
    }
   ],
   "source": [
    "#Выделим признаки\n",
    "X = data.drop(columns=['Exited']).copy()\n",
    "X.shape"
   ]
  },
  {
   "cell_type": "code",
   "execution_count": 103,
   "metadata": {},
   "outputs": [
    {
     "data": {
      "text/plain": [
       "(9091,)"
      ]
     },
     "execution_count": 103,
     "metadata": {},
     "output_type": "execute_result"
    }
   ],
   "source": [
    "#Выделим целевой признак\n",
    "y = data['Exited']\n",
    "y.shape"
   ]
  },
  {
   "cell_type": "markdown",
   "metadata": {},
   "source": [
    "**По результатам рассмотения признаков из исходного набора данных видится, что поведение клиентов может отличаться в зависимости от того, сколько лет он взаиможействует с банком. Целесообразно при разбиении на выборки стритифицировать их по знаяению признака `Tenure`**"
   ]
  },
  {
   "cell_type": "code",
   "execution_count": 104,
   "metadata": {},
   "outputs": [],
   "source": [
    "#Разделим данные на обучающую, валидационную и тестовую выборки\n",
    "X_train, X_test = train_test_split(X, stratify=X['Tenure'], test_size=0.2, random_state=12345)\n",
    "X_train, X_valid = train_test_split(X_train, stratify=X_train['Tenure'], test_size=0.25, random_state=12345)"
   ]
  },
  {
   "cell_type": "code",
   "execution_count": 105,
   "metadata": {
    "scrolled": false
   },
   "outputs": [],
   "source": [
    "y_train = y[X_train['Tenure'].index].copy()\n",
    "y_valid = y[X_valid['Tenure'].index].copy()\n",
    "y_test = y[X_test['Tenure'].index].copy()"
   ]
  },
  {
   "cell_type": "code",
   "execution_count": 106,
   "metadata": {},
   "outputs": [
    {
     "name": "stdout",
     "output_type": "stream",
     "text": [
      "Размерность признаков и целевого признакадля обучающей, валидационной и тестовой выборок соответвенно:\n",
      " (5454, 11) (5454,) \n",
      " (1818, 11) (1818,) \n",
      " (1819, 11) (1819,)\n"
     ]
    }
   ],
   "source": [
    "print(\n",
    "    'Размерность признаков и целевого признака' \n",
    "    'для обучающей, валидационной и тестовой выборок соответвенно:\\n',\n",
    "    X_train.shape, \n",
    "    y_train.shape, '\\n',\n",
    "    X_valid.shape,\n",
    "    y_valid.shape, '\\n',\n",
    "    X_test.shape,\n",
    "    y_test.shape\n",
    ")"
   ]
  },
  {
   "cell_type": "markdown",
   "metadata": {},
   "source": [
    "Проверим баланс разбиения выборок по значению целевого признака"
   ]
  },
  {
   "cell_type": "code",
   "execution_count": 107,
   "metadata": {
    "scrolled": false
   },
   "outputs": [
    {
     "name": "stdout",
     "output_type": "stream",
     "text": [
      "Доля единиц в train:  0.19435276861019435\n",
      "Доля единиц в valid:  0.20847084708470848\n",
      "Доля единиц в test:  0.2281473336998351\n"
     ]
    }
   ],
   "source": [
    "print('Доля единиц в train: ', y_train.mean())\n",
    "print('Доля единиц в valid: ', y_valid.mean())\n",
    "print('Доля единиц в test: ', y_test.mean())"
   ]
  },
  {
   "cell_type": "code",
   "execution_count": null,
   "metadata": {},
   "outputs": [],
   "source": []
  },
  {
   "cell_type": "markdown",
   "metadata": {},
   "source": [
    "Значения целевого признака по выборкам в целом распределено пропорционально. "
   ]
  },
  {
   "cell_type": "markdown",
   "metadata": {},
   "source": [
    "**Итог подготовки данных**\n",
    "\n",
    "1. В ходе обработки исходного набора данных:\n",
    "\n",
    "\n",
    "* удалены объекты, содержащие пропуски в признаке `Tenure` (9%)\n",
    "* исключены незначимые признаки (`RowNumber`, `CustomerId` и `Surname`)\n",
    "* категориальные признаки (`Geography` и `Gender`) пребразованы методом прямого кодирования.\n",
    "\n",
    "\n",
    "2. В обработанном наборе данных:\n",
    "\n",
    "\n",
    "* 9091 объект\n",
    "* 12 признаков, т.ч. целевой\n",
    "* пропуски и дубликаты отсутсвуют\n",
    "* все признаки принимают числовые значения\n",
    "* аномалий в значениях признаков не наблюдается\n",
    "\n",
    "\n",
    "3. Выделены признаки и целевой признак, данные разбиты на тренировочную (60%), валидационную (20%) и тестовую (20%) выборки.\n",
    "\n",
    "**Примечание**\n",
    "\n",
    "1. В данных предствлена информация о клиентах из трех стран (Франция, Германия, Испания). При этом клиентов из Франции в два раза больше чем из Германии и Испании.\n",
    "2. Клиенты мужского и женского пола в целом предствалены равномерно.\n",
    "3. Данные не сбалансированы по значению целевого признака. Количество объектов, относящихся к \"положительному классу\" меньше количества \"отрицательных\" почти в 4 раза.\n",
    "4. Значения целевого признака по выборкам в целом распределено пропорционально.\n"
   ]
  },
  {
   "cell_type": "markdown",
   "metadata": {},
   "source": [
    "## Исследование задачи"
   ]
  },
  {
   "cell_type": "markdown",
   "metadata": {},
   "source": [
    "Для решения задачи прогнозирования уйдёт клиент из банка в ближайшее время или нет обучим и исследуем следующие модели модели классификации:\n",
    "* логистической регрессии\n",
    "* решающего дерева\n",
    "* случайного леса\n",
    "* градиентного бустинга"
   ]
  },
  {
   "cell_type": "code",
   "execution_count": 108,
   "metadata": {},
   "outputs": [],
   "source": [
    "#Минимально допустимое значение метрики F1\n",
    "min_f1_score = 0.59"
   ]
  },
  {
   "cell_type": "code",
   "execution_count": 109,
   "metadata": {},
   "outputs": [],
   "source": [
    "#Функция вывода результата обучения и подбора гиперпараметров методами Grid и RandomizedSearchCV\n",
    "def print_fit_result(search_cv, score_name, min_score):\n",
    "    best_score = search_cv.cv_results_['mean_test_' + score_name][search_cv.best_index_]\n",
    "    best_params = search_cv.best_params_\n",
    "    if best_score >= min_score:      \n",
    "        print('Наибольшее значение {}, равное {:.4f}, \\n'\n",
    "              'достигается при следующих значениях гиперпараметров:'\n",
    "              .format(score_name, best_score)) \n",
    "        display(best_params)\n",
    "    else:\n",
    "        print('Модель со значением {} не менее {} обучить не удалось.\\n'\n",
    "              'Максимальное значение {}, равное {:.4f}, '\n",
    "              'достигается при следующих значениях гиперпараметров:'\n",
    "              .format(score_name, min_score, score_name, best_score))\n",
    "        display(best_params)"
   ]
  },
  {
   "cell_type": "markdown",
   "metadata": {},
   "source": [
    "### Модель логистической регресии "
   ]
  },
  {
   "cell_type": "markdown",
   "metadata": {},
   "source": [
    "Признаки имеют различный разброс значений от десятков до десятков тыс. Предварительно для модели логистической регрессии проведем масштаирование признаков."
   ]
  },
  {
   "cell_type": "code",
   "execution_count": 110,
   "metadata": {},
   "outputs": [],
   "source": [
    "numeric = ['CreditScore', 'Age', 'Tenure', 'Balance', 'NumOfProducts', 'EstimatedSalary']\n",
    "scaler = StandardScaler()\n",
    "scaler.fit(X_train[numeric])\n",
    "#Масштабируем количественные признаки тренировочной выборки\n",
    "X_train_scaled = X_train.copy()\n",
    "X_train_scaled[numeric] = scaler.transform(X_train[numeric])\n",
    "\n",
    "#Масштабируем количественные признаки валидационной выборки\n",
    "X_valid_scaled = X_valid.copy()\n",
    "X_valid_scaled[numeric] = scaler.transform(X_valid[numeric])\n",
    "\n",
    "#Масштабируем количественные признаки тестовой выборки\n",
    "X_test_scaled = X_test.copy()\n",
    "X_test_scaled[numeric] = scaler.transform(X_test[numeric])"
   ]
  },
  {
   "cell_type": "code",
   "execution_count": 111,
   "metadata": {},
   "outputs": [],
   "source": [
    "#Объявим модель логистической регрессии\n",
    "model_log_reg = LogisticRegression(random_state=12345)  \n",
    "\n",
    "#Формируем \"сетку\" гиперпараметров для подбора наиболее подходящих значений \n",
    "params_set_log_reg = {\n",
    "    'C': np.linspace(0.5, 4, 20),\n",
    "    'solver': ['lbfgs', 'liblinear', 'newton-cg', 'sag', 'saga'], \n",
    "    'max_iter': [x for x in range(100, 10001, 100)],\n",
    "    'class_weight': [None, 'balanced'],\n",
    "    'multi_class': ['auto', 'ovr']\n",
    "}\n",
    "\n",
    "search_cv_log_reg = RandomizedSearchCV(\n",
    "    estimator=model_log_reg, \n",
    "    param_distributions=params_set_log_reg,\n",
    "    n_iter=60,\n",
    "    scoring=['accuracy', 'recall', 'f1', 'roc_auc'],\n",
    "    refit='f1',\n",
    "    cv=2,\n",
    "    n_jobs=-1,\n",
    "    random_state=12345,\n",
    "    return_train_score=True\n",
    ")"
   ]
  },
  {
   "cell_type": "code",
   "execution_count": 112,
   "metadata": {
    "scrolled": true
   },
   "outputs": [
    {
     "name": "stdout",
     "output_type": "stream",
     "text": [
      "Модель со значением f1 не менее 0.59 обучить не удалось.\n",
      "Максимальное значение f1, равное 0.4823, достигается при следующих значениях гиперпараметров:\n"
     ]
    },
    {
     "data": {
      "text/plain": [
       "{'solver': 'newton-cg',\n",
       " 'multi_class': 'auto',\n",
       " 'max_iter': 8500,\n",
       " 'class_weight': 'balanced',\n",
       " 'C': 0.868421052631579}"
      ]
     },
     "metadata": {},
     "output_type": "display_data"
    }
   ],
   "source": [
    "#Обучаем модель на тренировочной выборке с кроссвалидацией\n",
    "search_cv_log_reg.fit(X_train_scaled, y_train);\n",
    "\n",
    "#Выводим результат обучения и подбора гиперпараметров\n",
    "print_fit_result(search_cv_log_reg, 'f1', min_f1_score)"
   ]
  },
  {
   "cell_type": "markdown",
   "metadata": {},
   "source": [
    "**Вывод**\n",
    "\n",
    "На примере модели логистической регрессии на несбалансированных выборках приемлемое значение F1-меры получить не удалось.\n",
    "\n",
    "Перейдем к балансировке классов и проверим, улучшит ли балансировка качество предсказания."
   ]
  },
  {
   "cell_type": "markdown",
   "metadata": {},
   "source": [
    "## Балансировка классов"
   ]
  },
  {
   "cell_type": "markdown",
   "metadata": {},
   "source": [
    "По результатам анализа исходных данных установлено, что данные не сбалансированы по значению целевого признака. Количество объектов, относящихся к \"положительному классу\" меньше количества \"отрицательных\" почти в 4 раза.\n",
    "\n",
    "Проведем балансировку классов мотодами upsampling и downsampling."
   ]
  },
  {
   "cell_type": "markdown",
   "metadata": {},
   "source": [
    "### Балансировка классов методом upsampling"
   ]
  },
  {
   "cell_type": "code",
   "execution_count": 113,
   "metadata": {},
   "outputs": [],
   "source": [
    "#Функция увеличения доли наименьшего класса\n",
    "def upsample(X, y, repeat):\n",
    "    #Разделим выборки по классам целевого признака\n",
    "    X_zeros = X[y == 0]\n",
    "    X_ones = X[y == 1]\n",
    "    y_zeros = y[y == 0]\n",
    "    y_ones = y[y == 1]\n",
    "    #Объединим в выборки с тиражированием наименьшего класса\n",
    "    X_upsampled = pd.concat([X_zeros] + [X_ones] * repeat)\n",
    "    y_upsampled = pd.concat([y_zeros] + [y_ones] * repeat)\n",
    "    #Перемешаем объекты\n",
    "    X_upsampled, y_upsampled = shuffle(X_upsampled, y_upsampled, random_state=12345)\n",
    "    return X_upsampled, y_upsampled"
   ]
  },
  {
   "cell_type": "markdown",
   "metadata": {},
   "source": [
    "Уровняем классы. Получим коэффициент для увеличения минимального класса, путем расчета соотношения классов "
   ]
  },
  {
   "cell_type": "code",
   "execution_count": 114,
   "metadata": {},
   "outputs": [],
   "source": [
    "repeat = int(round(y[y==0].shape[0] / y[y==1].shape[0]))"
   ]
  },
  {
   "cell_type": "code",
   "execution_count": 115,
   "metadata": {},
   "outputs": [
    {
     "name": "stdout",
     "output_type": "stream",
     "text": [
      "Параметры тренировочной выборки после метода upsample:\n",
      "\n",
      "Размерность признаков:  (8634, 11)\n",
      "Размерность целевого признака:  (8634,)\n",
      "Доля \"положительного\" класса :  0.49108176974750983\n"
     ]
    },
    {
     "data": {
      "image/png": "[encoded data removed]",
      "text/plain": [
       "<Figure size 432x288 with 1 Axes>"
      ]
     },
     "metadata": {
      "needs_background": "light"
     },
     "output_type": "display_data"
    }
   ],
   "source": [
    "print('Параметры тренировочной выборки после метода upsample:\\n')\n",
    "X_train_up, y_train_up = upsample(X_train, y_train, repeat)\n",
    "print('Размерность признаков: ', X_train_up.shape)\n",
    "print('Размерность целевого признака: ', y_train_up.shape)\n",
    "print('Доля \"положительного\" класса : ', y_train_up.mean())\n",
    "y_train_up.hist();\n",
    "plt.show()"
   ]
  },
  {
   "cell_type": "markdown",
   "metadata": {},
   "source": [
    "### Балансировка классов методом downsample"
   ]
  },
  {
   "cell_type": "code",
   "execution_count": 116,
   "metadata": {},
   "outputs": [],
   "source": [
    "#Функция уменьшения доли наибольшего класса\n",
    "def downsample(X, y, fraction):\n",
    "    #Разделим выборки по классам целевого признака\n",
    "    X_zeros = X[y == 0]\n",
    "    X_ones = X[y == 1]\n",
    "    y_zeros = y[y == 0]\n",
    "    y_ones = y[y == 1]\n",
    "    #Объединим в выборки с уменьшением наибольшего класса класса\n",
    "    X_downsampled = pd.concat([X_zeros.sample(frac=fraction, random_state=12345)] + [X_ones])\n",
    "    y_downsampled = pd.concat([y_zeros.sample(frac=fraction, random_state=12345)] + [y_ones])\n",
    "    #Перемешаем объекты\n",
    "    X_downsampled, y_downsampled = shuffle(X_downsampled, y_downsampled, random_state=12345)\n",
    "    return X_downsampled, y_downsampled"
   ]
  },
  {
   "cell_type": "markdown",
   "metadata": {},
   "source": [
    "Получим коэффициент для уменьшения максимального класса, путем расчета соотношения классов "
   ]
  },
  {
   "cell_type": "code",
   "execution_count": 117,
   "metadata": {},
   "outputs": [],
   "source": [
    "fraction = round(y[y==1].shape[0] / y[y==0].shape[0], 2)"
   ]
  },
  {
   "cell_type": "code",
   "execution_count": 118,
   "metadata": {},
   "outputs": [
    {
     "name": "stdout",
     "output_type": "stream",
     "text": [
      "Параметры тренировочной выборки после метода downsample:\n",
      "\n",
      "Размерность признаков:  (2202, 11)\n",
      "Размерность целевого признака:  (2202,)\n",
      "Доля \"положительного\" класса :  0.48138056312443234\n"
     ]
    },
    {
     "data": {
      "image/png": "[encoded data removed]",
      "text/plain": [
       "<Figure size 432x288 with 1 Axes>"
      ]
     },
     "metadata": {
      "needs_background": "light"
     },
     "output_type": "display_data"
    }
   ],
   "source": [
    "print('Параметры тренировочной выборки после метода downsample:\\n')\n",
    "X_train_down, y_train_down = downsample(X_train, y_train, fraction)\n",
    "print('Размерность признаков: ', X_train_down.shape)\n",
    "print('Размерность целевого признака: ', y_train_down.shape)\n",
    "print('Доля \"положительного\" класса : ', y_train_down.mean())\n",
    "y_train_down.hist();\n",
    "plt.show()"
   ]
  },
  {
   "cell_type": "markdown",
   "metadata": {},
   "source": [
    "**Итог балансировки классов**\n",
    "\n",
    "С использованием методов балансировки классов upsample и downsample получены 2 типа выборок с увеличенным количеством наименьшего класса (\"положительного\") и уменьшением наибольшего класса (\"отрицательного\") соответственно. \n",
    "\n",
    "В результате доля наименьшего класса для каждого типа выборок увеличена приблизительно с 0.2 до 0.4."
   ]
  },
  {
   "cell_type": "markdown",
   "metadata": {},
   "source": [
    "## Исследование моделей на сбалансированных выборках"
   ]
  },
  {
   "cell_type": "markdown",
   "metadata": {},
   "source": [
    "### Модель логистической регрессии"
   ]
  },
  {
   "cell_type": "markdown",
   "metadata": {},
   "source": [
    "#### На выборках, сбалансированных методом upsample \n",
    "\n",
    "Предварительно для модели логистической регрессии проведем масштабирование признаков."
   ]
  },
  {
   "cell_type": "code",
   "execution_count": 119,
   "metadata": {},
   "outputs": [],
   "source": [
    "numeric = ['CreditScore', 'Age', 'Tenure', 'Balance', 'NumOfProducts', 'EstimatedSalary']\n",
    "scaler_up = StandardScaler()\n",
    "scaler_up.fit(X_train_up[numeric])\n",
    "#Масштабируем количественные признаки тренировочной выборки\n",
    "X_train_scaled_up = X_train_up.copy()\n",
    "X_train_scaled_up[numeric] = scaler.transform(X_train_up[numeric])"
   ]
  },
  {
   "cell_type": "code",
   "execution_count": 120,
   "metadata": {
    "scrolled": true
   },
   "outputs": [
    {
     "name": "stdout",
     "output_type": "stream",
     "text": [
      "Наибольшее значение f1, равное 0.7046, \n",
      "достигается при следующих значениях гиперпараметров:\n"
     ]
    },
    {
     "data": {
      "text/plain": [
       "{'solver': 'liblinear',\n",
       " 'multi_class': 'ovr',\n",
       " 'max_iter': 8800,\n",
       " 'class_weight': 'balanced',\n",
       " 'C': 2.1578947368421053}"
      ]
     },
     "metadata": {},
     "output_type": "display_data"
    }
   ],
   "source": [
    "#Обучаем модель на тренировочной выборке с кроссвалидацией\n",
    "search_cv_log_reg.fit(X_train_scaled_up, y_train_up);\n",
    "\n",
    "#Выводим результат обучения и подбора гиперпараметров\n",
    "print_fit_result(search_cv_log_reg, 'f1', min_f1_score)"
   ]
  },
  {
   "cell_type": "code",
   "execution_count": 121,
   "metadata": {},
   "outputs": [],
   "source": [
    "#Сохраним результат обучения \n",
    "search_cv_log_reg_up = copy.copy(search_cv_log_reg)"
   ]
  },
  {
   "cell_type": "markdown",
   "metadata": {},
   "source": [
    "#### На выборках, сбалансированных методом downsample \n",
    "\n",
    "Предварительно для модели логистической регрессии проведем масштабирование признаков."
   ]
  },
  {
   "cell_type": "code",
   "execution_count": 122,
   "metadata": {},
   "outputs": [],
   "source": [
    "numeric = ['CreditScore', 'Age', 'Tenure', 'Balance', 'NumOfProducts', 'EstimatedSalary']\n",
    "scaler_down = StandardScaler()\n",
    "scaler_down.fit(X_train_down[numeric])\n",
    "#Масштабируем количественные признаки тренировочной выборки\n",
    "X_train_scaled_down = X_train_down.copy()\n",
    "X_train_scaled_down[numeric] = scaler.transform(X_train_down[numeric])"
   ]
  },
  {
   "cell_type": "code",
   "execution_count": 123,
   "metadata": {},
   "outputs": [
    {
     "name": "stdout",
     "output_type": "stream",
     "text": [
      "Наибольшее значение f1, равное 0.6854, \n",
      "достигается при следующих значениях гиперпараметров:\n"
     ]
    },
    {
     "data": {
      "text/plain": [
       "{'solver': 'liblinear',\n",
       " 'multi_class': 'auto',\n",
       " 'max_iter': 5200,\n",
       " 'class_weight': 'balanced',\n",
       " 'C': 0.6842105263157895}"
      ]
     },
     "metadata": {},
     "output_type": "display_data"
    }
   ],
   "source": [
    "#Обучаем модель на тренировочной выборке с кроссвалидацией\n",
    "search_cv_log_reg.fit(X_train_scaled_down, y_train_down);  \n",
    "\n",
    "#Выводим результат обучения и подбора гиперпараметров\n",
    "print_fit_result(search_cv_log_reg, 'f1', min_f1_score)"
   ]
  },
  {
   "cell_type": "code",
   "execution_count": 124,
   "metadata": {},
   "outputs": [],
   "source": [
    "#Сохраним результат обучения \n",
    "search_cv_log_reg_down = copy.copy(search_cv_log_reg)"
   ]
  },
  {
   "cell_type": "markdown",
   "metadata": {},
   "source": [
    "#### Изучим возможность изменения порога классификации для улучшения показателей на валидационной выборке"
   ]
  },
  {
   "cell_type": "code",
   "execution_count": 126,
   "metadata": {},
   "outputs": [],
   "source": [
    "#Функция вычиления наилучшего порога классификации для значений f1-меры\n",
    "def get_best_threshold(model, X, y, thresholds, disp=False):\n",
    "    probabilities = model.predict_proba(X)\n",
    "    probabilities_one = probabilities[:, 1]\n",
    "    best_f1 = 0 \n",
    "    best_auc_roc = 0\n",
    "    best_threshold = 0\n",
    "    for threshold in thresholds:\n",
    "        predicted = np.where(probabilities_one > threshold, 1, 0)\n",
    "        f1 = f1_score(y, predicted)\n",
    "        auc_roc = roc_auc_score(y, predicted)\n",
    "        if f1 > best_f1:\n",
    "            best_f1 = f1\n",
    "            best_auc_roc = auc_roc\n",
    "            best_threshold = threshold\n",
    "        if disp:\n",
    "            print('Порог = {:.2f} | f1 = {:.4f} | auc-roc {:.4f}'.format(threshold, f1, auc_roc))\n",
    "    return round(best_threshold, 3), best_f1, best_auc_roc\n",
    "\n",
    "#Функция вычисления значений f1-меры и auc-roc по значению порога \n",
    "def get_metrics_for_threshold(model, X, y, threshold, disp=False):\n",
    "    probabilities = model.predict_proba(X)\n",
    "    probabilities_one = probabilities[:, 1]\n",
    "    predicted = np.where(probabilities_one > threshold, 1, 0)\n",
    "    f1 = f1_score(y, predicted)\n",
    "    auc_roc = roc_auc_score(y, predicted)\n",
    "    if disp:\n",
    "        print('Порог = {:.2f} | f1 = {:.4f} | auc-roc {:.4f}'.format(threshold, f1, auc_roc))\n",
    "    else:\n",
    "        return f1, auc_roc"
   ]
  },
  {
   "cell_type": "markdown",
   "metadata": {},
   "source": [
    "Найдем наилучший порог классификации на вылидационной выборке"
   ]
  },
  {
   "cell_type": "code",
   "execution_count": 127,
   "metadata": {},
   "outputs": [
    {
     "name": "stdout",
     "output_type": "stream",
     "text": [
      "Upsample: threshold=0.575 | f1=0.5098952270081489 | auc-roc=0.6982302280424144\n",
      "Downsample: threshold=0.6 | f1=0.5055487053020962 | auc-roc=0.6915743306055766\n"
     ]
    }
   ],
   "source": [
    "threshold_log_reg_up_valid, f1_log_reg_up_valid, auc_roc_log_reg_up_valid = \\\n",
    "    get_best_threshold(\n",
    "        search_cv_log_reg_up.best_estimator_, \n",
    "        X_valid_scaled, y_valid, \n",
    "        np.arange(0, 1, 0.025)\n",
    "    )\n",
    "print('Upsample: threshold={} | f1={} | auc-roc={}'.format(\n",
    "    threshold_log_reg_up_valid, \n",
    "    f1_log_reg_up_valid, \n",
    "    auc_roc_log_reg_up_valid)\n",
    "     )\n",
    "\n",
    "threshold_log_reg_down_valid, f1_log_reg_down_valid, auc_roc_log_reg_down_valid = \\\n",
    "    get_best_threshold(\n",
    "        search_cv_log_reg_down.best_estimator_, \n",
    "        X_valid_scaled, \n",
    "        y_valid, \n",
    "        np.arange(0, 1, 0.025)\n",
    "    )\n",
    "print('Downsample: threshold={} | f1={} | auc-roc={}'.format(\n",
    "    threshold_log_reg_down_valid, \n",
    "    f1_log_reg_down_valid, \n",
    "    auc_roc_log_reg_down_valid)\n",
    "     )"
   ]
  },
  {
   "cell_type": "markdown",
   "metadata": {},
   "source": [
    "### Модель решающего дерева для задачи классификации"
   ]
  },
  {
   "cell_type": "code",
   "execution_count": 128,
   "metadata": {},
   "outputs": [],
   "source": [
    "#Объявим модель\n",
    "model_tree = DecisionTreeClassifier(random_state=12345)\n",
    "\n",
    "#Формируем \"сетку\" гиперпараметров для подбора наиболее подходящих значений \n",
    "params_set_tree = {\n",
    "    'criterion': ['gini', 'entropy'],\n",
    "    'max_depth': [x for x in range(1, 20)],\n",
    "    'min_samples_leaf': [2**x for x in range(0, 5)],\n",
    "    'min_samples_split': [2 + x for x in range(2, 23, 2)],\n",
    "    'splitter': ['best', 'random'],\n",
    "    'max_features': [None, 'sqrt', 'log2']\n",
    "}\n",
    "\n",
    "search_cv_tree = RandomizedSearchCV(\n",
    "    estimator = model_tree,\n",
    "    param_distributions=params_set_tree,\n",
    "    n_iter=100,\n",
    "    scoring=['accuracy', 'recall', 'f1', 'roc_auc'],\n",
    "    refit='roc_auc',\n",
    "    cv=2,\n",
    "    n_jobs=-1,\n",
    "    random_state=12345\n",
    "    #return_train_score=True\n",
    ")"
   ]
  },
  {
   "cell_type": "markdown",
   "metadata": {},
   "source": [
    "#### На выборках, сбалансированных методом upsample "
   ]
  },
  {
   "cell_type": "code",
   "execution_count": 129,
   "metadata": {
    "scrolled": true
   },
   "outputs": [
    {
     "name": "stdout",
     "output_type": "stream",
     "text": [
      "Наибольшее значение f1, равное 0.8190, \n",
      "достигается при следующих значениях гиперпараметров:\n"
     ]
    },
    {
     "data": {
      "text/plain": [
       "{'splitter': 'best',\n",
       " 'min_samples_split': 6,\n",
       " 'min_samples_leaf': 4,\n",
       " 'max_features': None,\n",
       " 'max_depth': 19,\n",
       " 'criterion': 'entropy'}"
      ]
     },
     "metadata": {},
     "output_type": "display_data"
    }
   ],
   "source": [
    "#Обучаем модель на тренировочной выборке с кроссвалидацией\n",
    "search_cv_tree.fit(X_train_up, y_train_up);\n",
    "\n",
    "#Выводим результат обучения и подбора гиперпараметров\n",
    "print_fit_result(search_cv_tree, 'f1', min_f1_score)"
   ]
  },
  {
   "cell_type": "code",
   "execution_count": 130,
   "metadata": {},
   "outputs": [],
   "source": [
    "#Сохраним результат обучения \n",
    "search_cv_tree_up = copy.copy(search_cv_tree)"
   ]
  },
  {
   "cell_type": "markdown",
   "metadata": {},
   "source": [
    "#### На выборках, сбалансированных методом downsample "
   ]
  },
  {
   "cell_type": "code",
   "execution_count": 131,
   "metadata": {
    "scrolled": true
   },
   "outputs": [
    {
     "name": "stdout",
     "output_type": "stream",
     "text": [
      "Наибольшее значение f1, равное 0.7323, \n",
      "достигается при следующих значениях гиперпараметров:\n"
     ]
    },
    {
     "data": {
      "text/plain": [
       "{'splitter': 'random',\n",
       " 'min_samples_split': 24,\n",
       " 'min_samples_leaf': 4,\n",
       " 'max_features': None,\n",
       " 'max_depth': 18,\n",
       " 'criterion': 'gini'}"
      ]
     },
     "metadata": {},
     "output_type": "display_data"
    }
   ],
   "source": [
    "#Обучаем модель на тренировочной выборке с кроссвалидацией\n",
    "search_cv_tree.fit(X_train_down, y_train_down);\n",
    "\n",
    "#Выводим результат обучения и подбора гиперпараметров\n",
    "print_fit_result(search_cv_tree, 'f1', min_f1_score)"
   ]
  },
  {
   "cell_type": "code",
   "execution_count": 132,
   "metadata": {},
   "outputs": [],
   "source": [
    "#Сохраним результат обучения \n",
    "search_cv_tree_down = copy.copy(search_cv_tree)"
   ]
  },
  {
   "cell_type": "markdown",
   "metadata": {},
   "source": [
    "#### Изучим возможность изменения порога классификации для улучшения показателей на валидационной выборке"
   ]
  },
  {
   "cell_type": "code",
   "execution_count": 133,
   "metadata": {},
   "outputs": [
    {
     "name": "stdout",
     "output_type": "stream",
     "text": [
      "Upsample: threshold=0.375 | f1=0.5388235294117647 | auc-roc=0.7180246469899024\n",
      "Downsample: threshold=0.75 | f1=0.5619596541786744 | auc-roc=0.7155603147157675\n"
     ]
    }
   ],
   "source": [
    "threshold_tree_up_valid, f1_tree_up_valid, auc_roc_tree_up_valid = \\\n",
    "    get_best_threshold(\n",
    "        search_cv_tree_up.best_estimator_, \n",
    "        X_valid, y_valid, \n",
    "        np.arange(0, 1, 0.025)\n",
    "    )\n",
    "print('Upsample: threshold={} | f1={} | auc-roc={}'.format(\n",
    "    threshold_tree_up_valid, \n",
    "    f1_tree_up_valid, \n",
    "    auc_roc_tree_up_valid)\n",
    "     )\n",
    "\n",
    "threshold_tree_down_valid, f1_tree_down_valid, auc_roc_tree_down_valid = \\\n",
    "    get_best_threshold(\n",
    "        search_cv_tree_down.best_estimator_, \n",
    "        X_valid, \n",
    "        y_valid, \n",
    "        np.arange(0, 1, 0.025)\n",
    "    )\n",
    "print('Downsample: threshold={} | f1={} | auc-roc={}'.format(\n",
    "    threshold_tree_down_valid, \n",
    "    f1_tree_down_valid, \n",
    "    auc_roc_tree_down_valid)\n",
    "     )"
   ]
  },
  {
   "cell_type": "markdown",
   "metadata": {},
   "source": [
    "### Модель случайного леса для задачи классификации"
   ]
  },
  {
   "cell_type": "code",
   "execution_count": 134,
   "metadata": {},
   "outputs": [],
   "source": [
    "#Объявим модель\n",
    "model_forest = RandomForestClassifier(random_state=12345)\n",
    "\n",
    "#Формируем \"сетку\" гиперпараметров для подбора наиболее подходящих значений\n",
    "params_set_forest = {\n",
    "    'n_estimators': [x for x in range(100, 2101, 100)],\n",
    "    'criterion': ['gini', 'entropy'],\n",
    "    'max_depth': [x for x in range(1, 25, 2)],\n",
    "    'min_samples_leaf': [x for x in range(1, 23, 3)],\n",
    "    'min_samples_split': [2 + x for x in range(2, 23, 2)],\n",
    "    'max_features': [None, 'sqrt', 'log2']\n",
    "}\n",
    "\n",
    "search_cv_forest = RandomizedSearchCV(\n",
    "    estimator=model_forest, \n",
    "    param_distributions=params_set_forest,\n",
    "    n_iter=10,\n",
    "    scoring=['accuracy', 'recall', 'f1', 'roc_auc'],\n",
    "    refit='roc_auc',\n",
    "    cv=2,\n",
    "    n_jobs=-1,\n",
    "    random_state=12345\n",
    "    #return_train_score=True\n",
    ")"
   ]
  },
  {
   "cell_type": "markdown",
   "metadata": {},
   "source": [
    "#### На выборках, сбалансированных методом upsample "
   ]
  },
  {
   "cell_type": "code",
   "execution_count": 135,
   "metadata": {
    "scrolled": true
   },
   "outputs": [
    {
     "name": "stdout",
     "output_type": "stream",
     "text": [
      "Наибольшее значение f1, равное 0.8693, \n",
      "достигается при следующих значениях гиперпараметров:\n"
     ]
    },
    {
     "data": {
      "text/plain": [
       "{'n_estimators': 1100,\n",
       " 'min_samples_split': 12,\n",
       " 'min_samples_leaf': 2,\n",
       " 'max_features': 'sqrt',\n",
       " 'max_depth': 16,\n",
       " 'criterion': 'gini'}"
      ]
     },
     "metadata": {},
     "output_type": "display_data"
    }
   ],
   "source": [
    "#Обучаем модель на тренировочной выборке с кроссвалидацией\n",
    "search_cv_forest.fit(X_train_up, y_train_up);\n",
    "\n",
    "#Выводим результат обучения и подбора гиперпараметров\n",
    "print_fit_result(search_cv_forest, 'f1', min_f1_score)"
   ]
  },
  {
   "cell_type": "code",
   "execution_count": 136,
   "metadata": {},
   "outputs": [],
   "source": [
    "#Сохраним результат обучения \n",
    "search_cv_forest_up = copy.copy(search_cv_forest)"
   ]
  },
  {
   "cell_type": "markdown",
   "metadata": {},
   "source": [
    "#### На выборках, сбалансированных методом downsample "
   ]
  },
  {
   "cell_type": "code",
   "execution_count": 137,
   "metadata": {},
   "outputs": [
    {
     "name": "stdout",
     "output_type": "stream",
     "text": [
      "Наибольшее значение f1, равное 0.7639, \n",
      "достигается при следующих значениях гиперпараметров:\n"
     ]
    },
    {
     "data": {
      "text/plain": [
       "{'n_estimators': 1100,\n",
       " 'min_samples_split': 12,\n",
       " 'min_samples_leaf': 2,\n",
       " 'max_features': 'sqrt',\n",
       " 'max_depth': 16,\n",
       " 'criterion': 'gini'}"
      ]
     },
     "metadata": {},
     "output_type": "display_data"
    }
   ],
   "source": [
    "#Обучаем модель на тренировочной выборке с кроссвалидацией\n",
    "search_cv_forest.fit(X_train_down, y_train_down);\n",
    "\n",
    "#Выводим результат обучения и подбора гиперпараметров\n",
    "print_fit_result(search_cv_forest, 'f1', min_f1_score)"
   ]
  },
  {
   "cell_type": "code",
   "execution_count": 138,
   "metadata": {},
   "outputs": [],
   "source": [
    "#Сохраним результат обучения \n",
    "search_cv_forest_down = copy.copy(search_cv_forest)"
   ]
  },
  {
   "cell_type": "markdown",
   "metadata": {},
   "source": [
    "#### Изучим возможность изменения порога классификации для улучшения показателей на валидационной выборке"
   ]
  },
  {
   "cell_type": "code",
   "execution_count": 139,
   "metadata": {
    "scrolled": false
   },
   "outputs": [
    {
     "name": "stdout",
     "output_type": "stream",
     "text": [
      "Upsample: threshold=0.55 | f1=0.641095890410959 | auc-roc=0.7680538925998522\n",
      "Downsample: threshold=0.65 | f1=0.6407766990291264 | auc-roc=0.766180890056676\n"
     ]
    }
   ],
   "source": [
    "threshold_forest_up_valid, f1_forest_up_valid, auc_roc_forest_up_valid = \\\n",
    "    get_best_threshold(\n",
    "        search_cv_forest_up.best_estimator_, \n",
    "        X_valid, y_valid, \n",
    "        np.arange(0, 1, 0.025)\n",
    "    )\n",
    "print('Upsample: threshold={} | f1={} | auc-roc={}'.format(\n",
    "    threshold_forest_up_valid, \n",
    "    f1_forest_up_valid, \n",
    "    auc_roc_forest_up_valid)\n",
    "     )\n",
    "\n",
    "threshold_forest_down_valid, f1_forest_down_valid, auc_roc_forest_down_valid = \\\n",
    "    get_best_threshold(\n",
    "        search_cv_forest_down.best_estimator_, \n",
    "        X_valid, \n",
    "        y_valid, \n",
    "        np.arange(0, 1, 0.025)\n",
    "    )\n",
    "print('Downsample: threshold={} | f1={} | auc-roc={}'.format(\n",
    "    threshold_forest_down_valid, \n",
    "    f1_forest_down_valid, \n",
    "    auc_roc_forest_down_valid)\n",
    "     )"
   ]
  },
  {
   "cell_type": "markdown",
   "metadata": {},
   "source": [
    "### Модель градиентного бустинга для задачи классификации"
   ]
  },
  {
   "cell_type": "code",
   "execution_count": 140,
   "metadata": {},
   "outputs": [],
   "source": [
    "#Объявим модель\n",
    "model_gboost = GradientBoostingClassifier(random_state=12345)\n",
    "\n",
    "#Формируем \"сетку\" гиперпараметров для подбора наиболее подходящих значений \n",
    "params_set_gboost = {\n",
    "    'n_estimators': [x for x in range(100, 2101, 300)],\n",
    "    'max_depth': [x for x in range(1, 50)],\n",
    "    'min_samples_leaf': [x for x in range(2, 30, 3)],\n",
    "    'min_samples_split': [2 + x for x in range(2, 23, 1)],\n",
    "    'max_features': [None, 'sqrt', 'log2']\n",
    "}\n",
    "\n",
    "search_cv_gboost = RandomizedSearchCV(\n",
    "    estimator=model_gboost, \n",
    "    param_distributions=params_set_gboost,\n",
    "    n_iter=50,\n",
    "    scoring=['accuracy', 'recall', 'f1', 'roc_auc'],\n",
    "    refit='roc_auc',\n",
    "    cv=2,\n",
    "    n_jobs=-1,\n",
    "    random_state=12345\n",
    "    #return_train_score=True\n",
    ")"
   ]
  },
  {
   "cell_type": "markdown",
   "metadata": {},
   "source": [
    "#### На выборках, сбалансированных методом upsample "
   ]
  },
  {
   "cell_type": "code",
   "execution_count": 141,
   "metadata": {
    "scrolled": true
   },
   "outputs": [
    {
     "name": "stdout",
     "output_type": "stream",
     "text": [
      "Наибольшее значение f1, равное 0.9210, \n",
      "достигается при следующих значениях гиперпараметров:\n"
     ]
    },
    {
     "data": {
      "text/plain": [
       "{'n_estimators': 500,\n",
       " 'min_samples_split': 6,\n",
       " 'min_samples_leaf': 7,\n",
       " 'max_features': 'sqrt',\n",
       " 'max_depth': 19}"
      ]
     },
     "metadata": {},
     "output_type": "display_data"
    }
   ],
   "source": [
    "#Обучаем модель на тренировочной выборке с кроссвалидацией\n",
    "search_cv_gboost.fit(X_train_up, y_train_up);\n",
    "\n",
    "#Выводим результат обучения и подбора гиперпараметров\n",
    "print_fit_result(search_cv_gboost, 'f1', min_f1_score)"
   ]
  },
  {
   "cell_type": "code",
   "execution_count": 142,
   "metadata": {},
   "outputs": [],
   "source": [
    "#Сохраним результат обучения \n",
    "search_cv_gboost_up = copy.copy(search_cv_gboost)"
   ]
  },
  {
   "cell_type": "markdown",
   "metadata": {},
   "source": [
    "#### На выборках, сбалансированных методом downsample "
   ]
  },
  {
   "cell_type": "code",
   "execution_count": 143,
   "metadata": {
    "scrolled": true
   },
   "outputs": [
    {
     "name": "stdout",
     "output_type": "stream",
     "text": [
      "Наибольшее значение f1, равное 0.7501, \n",
      "достигается при следующих значениях гиперпараметров:\n"
     ]
    },
    {
     "data": {
      "text/plain": [
       "{'n_estimators': 100,\n",
       " 'min_samples_split': 21,\n",
       " 'min_samples_leaf': 18,\n",
       " 'max_features': 'sqrt',\n",
       " 'max_depth': 2}"
      ]
     },
     "metadata": {},
     "output_type": "display_data"
    }
   ],
   "source": [
    "#Обучаем модель на тренировочной выборке с кроссвалидацией\n",
    "search_cv_gboost.fit(X_train_down, y_train_down);\n",
    "\n",
    "#Выводим результат обучения и подбора гиперпараметров\n",
    "print_fit_result(search_cv_gboost, 'f1', min_f1_score)"
   ]
  },
  {
   "cell_type": "code",
   "execution_count": 144,
   "metadata": {},
   "outputs": [],
   "source": [
    "#Сохраним результат обучения \n",
    "search_cv_gboost_down = copy.copy(search_cv_gboost)"
   ]
  },
  {
   "cell_type": "markdown",
   "metadata": {},
   "source": [
    "#### Изучим возможность изменения порога классификации для улучшения показателей на валидационной выборке"
   ]
  },
  {
   "cell_type": "code",
   "execution_count": 145,
   "metadata": {},
   "outputs": [
    {
     "name": "stdout",
     "output_type": "stream",
     "text": [
      "Upsample: threshold=0.05 | f1=0.6358381502890172 | auc-roc=0.7579233599997066\n",
      "Downsample: threshold=0.6 | f1=0.6378653113087674 | auc-roc=0.7765827925798663\n"
     ]
    }
   ],
   "source": [
    "threshold_gboost_up_valid, f1_gboost_up_valid, auc_roc_gboost_up_valid = \\\n",
    "    get_best_threshold(\n",
    "        search_cv_gboost_up.best_estimator_, \n",
    "        X_valid, y_valid, \n",
    "        np.arange(0, 1, 0.025)\n",
    "    )\n",
    "print('Upsample: threshold={} | f1={} | auc-roc={}'.format(\n",
    "    threshold_gboost_up_valid, \n",
    "    f1_gboost_up_valid, \n",
    "    auc_roc_gboost_up_valid)\n",
    "     )\n",
    "\n",
    "threshold_gboost_down_valid, f1_gboost_down_valid, auc_roc_gboost_down_valid = \\\n",
    "    get_best_threshold(\n",
    "        search_cv_gboost_down.best_estimator_, \n",
    "        X_valid, \n",
    "        y_valid, \n",
    "        np.arange(0, 1, 0.025)\n",
    "    )\n",
    "print('Downsample: threshold={} | f1={} | auc-roc={}'.format(\n",
    "    threshold_gboost_down_valid, \n",
    "    f1_gboost_down_valid, \n",
    "    auc_roc_gboost_down_valid)\n",
    "     )"
   ]
  },
  {
   "cell_type": "markdown",
   "metadata": {},
   "source": [
    "### Результаты исследования моделей"
   ]
  },
  {
   "cell_type": "code",
   "execution_count": 146,
   "metadata": {},
   "outputs": [
    {
     "name": "stdout",
     "output_type": "stream",
     "text": [
      "\n",
      "Значения F1-меры моделей при кроссвалидации, а также F1-меры, AUC-ROC и порога классификации на валидационной выборке\n"
     ]
    },
    {
     "data": {
      "text/html": [
       "<style  type=\"text/css\" >\n",
       "#T_f7e2b_row2_col1,#T_f7e2b_row3_col0{\n",
       "            background-color:  lightgreen;\n",
       "        }#T_f7e2b_row2_col2,#T_f7e2b_row2_col3{\n",
       "            background-color:  lightblue;\n",
       "        }#T_f7e2b_row2_col4,#T_f7e2b_row3_col5{\n",
       "            background-color:  pink;\n",
       "        }</style><table id=\"T_f7e2b_\" ><thead>    <tr>        <th class=\"blank level0\" ></th>        <th class=\"col_heading level0 col0\" >f1_up_cv</th>        <th class=\"col_heading level0 col1\" >f1_down_cv</th>        <th class=\"col_heading level0 col2\" >f1_up_valid</th>        <th class=\"col_heading level0 col3\" >f1_down_valid</th>        <th class=\"col_heading level0 col4\" >auc_roc_up_valid</th>        <th class=\"col_heading level0 col5\" >auc_roc_down_valid</th>        <th class=\"col_heading level0 col6\" >threshold_up_valid</th>        <th class=\"col_heading level0 col7\" >threshold_down_valid</th>    </tr></thead><tbody>\n",
       "                <tr>\n",
       "                        <th id=\"T_f7e2b_level0_row0\" class=\"row_heading level0 row0\" >regression</th>\n",
       "                        <td id=\"T_f7e2b_row0_col0\" class=\"data row0 col0\" >0.704577</td>\n",
       "                        <td id=\"T_f7e2b_row0_col1\" class=\"data row0 col1\" >0.685431</td>\n",
       "                        <td id=\"T_f7e2b_row0_col2\" class=\"data row0 col2\" >0.509895</td>\n",
       "                        <td id=\"T_f7e2b_row0_col3\" class=\"data row0 col3\" >0.505549</td>\n",
       "                        <td id=\"T_f7e2b_row0_col4\" class=\"data row0 col4\" >0.698230</td>\n",
       "                        <td id=\"T_f7e2b_row0_col5\" class=\"data row0 col5\" >0.691574</td>\n",
       "                        <td id=\"T_f7e2b_row0_col6\" class=\"data row0 col6\" >0.575000</td>\n",
       "                        <td id=\"T_f7e2b_row0_col7\" class=\"data row0 col7\" >0.600000</td>\n",
       "            </tr>\n",
       "            <tr>\n",
       "                        <th id=\"T_f7e2b_level0_row1\" class=\"row_heading level0 row1\" >tree</th>\n",
       "                        <td id=\"T_f7e2b_row1_col0\" class=\"data row1 col0\" >0.818982</td>\n",
       "                        <td id=\"T_f7e2b_row1_col1\" class=\"data row1 col1\" >0.732321</td>\n",
       "                        <td id=\"T_f7e2b_row1_col2\" class=\"data row1 col2\" >0.538824</td>\n",
       "                        <td id=\"T_f7e2b_row1_col3\" class=\"data row1 col3\" >0.561960</td>\n",
       "                        <td id=\"T_f7e2b_row1_col4\" class=\"data row1 col4\" >0.718025</td>\n",
       "                        <td id=\"T_f7e2b_row1_col5\" class=\"data row1 col5\" >0.715560</td>\n",
       "                        <td id=\"T_f7e2b_row1_col6\" class=\"data row1 col6\" >0.375000</td>\n",
       "                        <td id=\"T_f7e2b_row1_col7\" class=\"data row1 col7\" >0.750000</td>\n",
       "            </tr>\n",
       "            <tr>\n",
       "                        <th id=\"T_f7e2b_level0_row2\" class=\"row_heading level0 row2\" >forest</th>\n",
       "                        <td id=\"T_f7e2b_row2_col0\" class=\"data row2 col0\" >0.869310</td>\n",
       "                        <td id=\"T_f7e2b_row2_col1\" class=\"data row2 col1\" >0.763872</td>\n",
       "                        <td id=\"T_f7e2b_row2_col2\" class=\"data row2 col2\" >0.641096</td>\n",
       "                        <td id=\"T_f7e2b_row2_col3\" class=\"data row2 col3\" >0.640777</td>\n",
       "                        <td id=\"T_f7e2b_row2_col4\" class=\"data row2 col4\" >0.768054</td>\n",
       "                        <td id=\"T_f7e2b_row2_col5\" class=\"data row2 col5\" >0.766181</td>\n",
       "                        <td id=\"T_f7e2b_row2_col6\" class=\"data row2 col6\" >0.550000</td>\n",
       "                        <td id=\"T_f7e2b_row2_col7\" class=\"data row2 col7\" >0.650000</td>\n",
       "            </tr>\n",
       "            <tr>\n",
       "                        <th id=\"T_f7e2b_level0_row3\" class=\"row_heading level0 row3\" >gboosting</th>\n",
       "                        <td id=\"T_f7e2b_row3_col0\" class=\"data row3 col0\" >0.921044</td>\n",
       "                        <td id=\"T_f7e2b_row3_col1\" class=\"data row3 col1\" >0.750122</td>\n",
       "                        <td id=\"T_f7e2b_row3_col2\" class=\"data row3 col2\" >0.635838</td>\n",
       "                        <td id=\"T_f7e2b_row3_col3\" class=\"data row3 col3\" >0.637865</td>\n",
       "                        <td id=\"T_f7e2b_row3_col4\" class=\"data row3 col4\" >0.757923</td>\n",
       "                        <td id=\"T_f7e2b_row3_col5\" class=\"data row3 col5\" >0.776583</td>\n",
       "                        <td id=\"T_f7e2b_row3_col6\" class=\"data row3 col6\" >0.050000</td>\n",
       "                        <td id=\"T_f7e2b_row3_col7\" class=\"data row3 col7\" >0.600000</td>\n",
       "            </tr>\n",
       "    </tbody></table>"
      ],
      "text/plain": [
       "<pandas.io.formats.style.Styler at 0x7f6d2fe46df0>"
      ]
     },
     "execution_count": 146,
     "metadata": {},
     "output_type": "execute_result"
    }
   ],
   "source": [
    "#Вывод значения F1-меры, полученной на валидационной выборке \n",
    "print('\\nЗначения F1-меры моделей при кроссвалидации, а также F1-меры, ' \n",
    "      'AUC-ROC и порога классификации на валидационной выборке')\n",
    "(pd.DataFrame({'f1_up_cv':[search_cv_log_reg_up.cv_results_['mean_test_f1'][search_cv_log_reg_up.best_index_], \n",
    "                          search_cv_tree_up.cv_results_['mean_test_f1'][search_cv_tree_up.best_index_], \n",
    "                          search_cv_forest_up.cv_results_['mean_test_f1'][search_cv_forest_up.best_index_],\n",
    "                          search_cv_gboost_up.cv_results_['mean_test_f1'][search_cv_gboost_up.best_index_]], \n",
    "              'f1_down_cv':[search_cv_log_reg_down.cv_results_['mean_test_f1'][search_cv_log_reg_down.best_index_], \n",
    "                          search_cv_tree_down.cv_results_['mean_test_f1'][search_cv_tree_down.best_index_], \n",
    "                          search_cv_forest_down.cv_results_['mean_test_f1'][search_cv_forest_down.best_index_],\n",
    "                          search_cv_gboost.cv_results_['mean_test_f1'][search_cv_gboost_down.best_index_]],\n",
    "               'f1_up_valid':[f1_log_reg_up_valid,\n",
    "                             f1_tree_up_valid,\n",
    "                             f1_forest_up_valid,\n",
    "                             f1_gboost_up_valid],\n",
    "               'f1_down_valid':[f1_log_reg_down_valid,\n",
    "                             f1_tree_down_valid,\n",
    "                             f1_forest_down_valid,\n",
    "                             f1_gboost_down_valid],\n",
    "               'auc_roc_up_valid':[auc_roc_log_reg_up_valid,\n",
    "                             auc_roc_tree_up_valid,\n",
    "                             auc_roc_forest_up_valid,\n",
    "                             auc_roc_gboost_up_valid],\n",
    "               'auc_roc_down_valid':[auc_roc_log_reg_down_valid,\n",
    "                             auc_roc_tree_down_valid,\n",
    "                             auc_roc_forest_down_valid,\n",
    "                             auc_roc_gboost_down_valid],\n",
    "               'threshold_up_valid':[threshold_log_reg_up_valid,\n",
    "                                    threshold_tree_up_valid,\n",
    "                                    threshold_forest_up_valid,\n",
    "                                    threshold_gboost_up_valid],\n",
    "               'threshold_down_valid':[threshold_log_reg_down_valid,\n",
    "                                    threshold_tree_down_valid,\n",
    "                                    threshold_forest_down_valid,\n",
    "                                    threshold_gboost_down_valid]\n",
    "              }).rename({0:'regression',\n",
    "                         1:'tree', \n",
    "                         2:'forest', \n",
    "                         3:'gboosting'})\n",
    ".style\n",
    ".highlight_max(subset=['f1_up_cv', 'f1_down_cv'], color = 'lightgreen')\n",
    ".highlight_max(subset=['f1_up_valid', 'f1_down_valid'], color = 'lightblue')\n",
    ".highlight_max(subset=['auc_roc_up_valid', 'auc_roc_down_valid'], color = 'pink'))"
   ]
  },
  {
   "cell_type": "markdown",
   "metadata": {},
   "source": [
    "**Итог исследования моделей**\n",
    "\n",
    "В ходе исследования были рассмотрены следующие модели классификации:\n",
    "* логистической регрессии\n",
    "* решающего дерева\n",
    "* случайного леса\n",
    "* градиентного бустинга\n",
    "\n",
    "При обучении и подборе параметров с кроссвалидацией все модели превысили минимально допустимый уровень значения F1-меры в 0.59. \n",
    "\n",
    "Вместе с тем на валидационной выборке значение F1-меры превысило минимально допустимое значение только у моделей *случайного леса* и *градиентного бустинга*. В основном указанные модели показали свой лучший результат при изменении порога классификации.\n",
    "\n",
    "В целом, F1-мера у моделей *случайного леса* и *градиентного бустинга* принимает близкие значения.\n",
    "\n",
    "Также у моделей *случайного леса* и *градиентного бустинга* достигнуты наибольшие значения AUC-ROC. Значения AUC-ROC не являются высокими,  но значительно превышают показатель случайных моделей, равный 0.5."
   ]
  },
  {
   "cell_type": "markdown",
   "metadata": {},
   "source": [
    "## Тестирование моделей"
   ]
  },
  {
   "cell_type": "markdown",
   "metadata": {},
   "source": [
    "Проведем тестирование на тестовой выборке моделей *случайного леса* и *градиентного бустинга* с гиперпараметрами и значением порога классификации, обеспечившими наилучший результат"
   ]
  },
  {
   "cell_type": "code",
   "execution_count": 147,
   "metadata": {
    "scrolled": false
   },
   "outputs": [
    {
     "name": "stdout",
     "output_type": "stream",
     "text": [
      "\n",
      "Значения F1-меры и AUC-ROC моделей на тестовой выборке:\n"
     ]
    },
    {
     "data": {
      "text/html": [
       "<style  type=\"text/css\" >\n",
       "#T_54d25_row0_col0,#T_54d25_row1_col1{\n",
       "            background-color:  lightblue;\n",
       "        }#T_54d25_row0_col2,#T_54d25_row0_col3{\n",
       "            background-color:  pink;\n",
       "        }</style><table id=\"T_54d25_\" ><thead>    <tr>        <th class=\"blank level0\" ></th>        <th class=\"col_heading level0 col0\" >f1_up</th>        <th class=\"col_heading level0 col1\" >f1_down</th>        <th class=\"col_heading level0 col2\" >auc_roc_up</th>        <th class=\"col_heading level0 col3\" >auc_roc_down</th>        <th class=\"col_heading level0 col4\" >threshold_up</th>        <th class=\"col_heading level0 col5\" >threshold_down</th>    </tr></thead><tbody>\n",
       "                <tr>\n",
       "                        <th id=\"T_54d25_level0_row0\" class=\"row_heading level0 row0\" >forest</th>\n",
       "                        <td id=\"T_54d25_row0_col0\" class=\"data row0 col0\" >0.659600</td>\n",
       "                        <td id=\"T_54d25_row0_col1\" class=\"data row0 col1\" >0.624155</td>\n",
       "                        <td id=\"T_54d25_row0_col2\" class=\"data row0 col2\" >0.782506</td>\n",
       "                        <td id=\"T_54d25_row0_col3\" class=\"data row0 col3\" >0.783387</td>\n",
       "                        <td id=\"T_54d25_row0_col4\" class=\"data row0 col4\" >0.550000</td>\n",
       "                        <td id=\"T_54d25_row0_col5\" class=\"data row0 col5\" >0.650000</td>\n",
       "            </tr>\n",
       "            <tr>\n",
       "                        <th id=\"T_54d25_level0_row1\" class=\"row_heading level0 row1\" >gboosting</th>\n",
       "                        <td id=\"T_54d25_row1_col0\" class=\"data row1 col0\" >0.629096</td>\n",
       "                        <td id=\"T_54d25_row1_col1\" class=\"data row1 col1\" >0.636678</td>\n",
       "                        <td id=\"T_54d25_row1_col2\" class=\"data row1 col2\" >0.750695</td>\n",
       "                        <td id=\"T_54d25_row1_col3\" class=\"data row1 col3\" >0.769852</td>\n",
       "                        <td id=\"T_54d25_row1_col4\" class=\"data row1 col4\" >0.050000</td>\n",
       "                        <td id=\"T_54d25_row1_col5\" class=\"data row1 col5\" >0.600000</td>\n",
       "            </tr>\n",
       "    </tbody></table>"
      ],
      "text/plain": [
       "<pandas.io.formats.style.Styler at 0x7f6db7c170d0>"
      ]
     },
     "execution_count": 147,
     "metadata": {},
     "output_type": "execute_result"
    }
   ],
   "source": [
    "f1_gboost_up_test, auc_roc_gboost_up_test = get_metrics_for_threshold(\n",
    "    search_cv_gboost_up.best_estimator_, \n",
    "    X_test, \n",
    "    y_test, \n",
    "    threshold_gboost_up_valid\n",
    ")\n",
    "f1_gboost_down_test, auc_roc_gboost_down_test = get_metrics_for_threshold(\n",
    "    search_cv_gboost_down.best_estimator_, \n",
    "    X_test, \n",
    "    y_test, \n",
    "    threshold_gboost_down_valid\n",
    ")\n",
    "\n",
    "#Значение F1-меры и AUC-ROC на тестовой выборке\n",
    "print('\\nЗначения F1-меры и AUC-ROC моделей на тестовой выборке:')\n",
    "(pd.DataFrame({'f1_up':[f1_score(y_test, search_cv_forest_up.best_estimator_.predict(X_test)),\n",
    "                                 f1_gboost_up_test],\n",
    "              'f1_down':[f1_score(y_test, search_cv_forest_down.best_estimator_.predict(X_test)),\n",
    "                          f1_gboost_down_test],\n",
    "              'auc_roc_up':[roc_auc_score(y_test, search_cv_forest_up.best_estimator_.predict(X_test)),\n",
    "                             auc_roc_gboost_up_test],\n",
    "              'auc_roc_down':[roc_auc_score(y_test, search_cv_forest_down.best_estimator_.predict(X_test)),\n",
    "                             auc_roc_gboost_down_test],\n",
    "              'threshold_up':[threshold_forest_up_valid,\n",
    "                                    threshold_gboost_up_valid],\n",
    "              'threshold_down':[threshold_forest_down_valid,\n",
    "                                      threshold_gboost_down_valid]\n",
    "              }).rename({0:'forest', \n",
    "                         1:'gboosting'})\n",
    ".style\n",
    ".highlight_max(subset=['f1_up', 'f1_down'], color = 'lightblue')\n",
    ".highlight_max(subset=['auc_roc_up', 'auc_roc_down'], color = 'pink'))"
   ]
  },
  {
   "cell_type": "code",
   "execution_count": 148,
   "metadata": {
    "scrolled": false
   },
   "outputs": [
    {
     "name": "stdout",
     "output_type": "stream",
     "text": [
      "\n",
      "Среднее значение и стандартное отклонение показателей F1-меры моделей случайного леса\n",
      " и градиентного бустинга на валидационной и тестовой выборках\n"
     ]
    },
    {
     "data": {
      "text/html": [
       "<div>\n",
       "<style scoped>\n",
       "    .dataframe tbody tr th:only-of-type {\n",
       "        vertical-align: middle;\n",
       "    }\n",
       "\n",
       "    .dataframe tbody tr th {\n",
       "        vertical-align: top;\n",
       "    }\n",
       "\n",
       "    .dataframe thead th {\n",
       "        text-align: right;\n",
       "    }\n",
       "</style>\n",
       "<table border=\"1\" class=\"dataframe\">\n",
       "  <thead>\n",
       "    <tr style=\"text-align: right;\">\n",
       "      <th></th>\n",
       "      <th>forest_up</th>\n",
       "      <th>forest_down</th>\n",
       "      <th>gboosting_up</th>\n",
       "      <th>gboosting_down</th>\n",
       "    </tr>\n",
       "  </thead>\n",
       "  <tbody>\n",
       "    <tr>\n",
       "      <th>std</th>\n",
       "      <td>0.0131</td>\n",
       "      <td>0.0118</td>\n",
       "      <td>0.0048</td>\n",
       "      <td>0.0008</td>\n",
       "    </tr>\n",
       "    <tr>\n",
       "      <th>mean</th>\n",
       "      <td>0.6503</td>\n",
       "      <td>0.6325</td>\n",
       "      <td>0.6325</td>\n",
       "      <td>0.6373</td>\n",
       "    </tr>\n",
       "  </tbody>\n",
       "</table>\n",
       "</div>"
      ],
      "text/plain": [
       "      forest_up  forest_down  gboosting_up  gboosting_down\n",
       "std      0.0131       0.0118        0.0048          0.0008\n",
       "mean     0.6503       0.6325        0.6325          0.6373"
      ]
     },
     "execution_count": 148,
     "metadata": {},
     "output_type": "execute_result"
    }
   ],
   "source": [
    "print('\\nСреднее значение и стандартное отклонение показателей F1-меры моделей случайного леса\\n'\n",
    "      ' и градиентного бустинга на валидационной и тестовой выборках')\n",
    "pd.DataFrame({'forest_up':[f1_score(y_test, search_cv_forest_up.best_estimator_.predict(X_test)),\n",
    "                           f1_forest_up_valid],\n",
    "              'forest_down':[f1_score(y_test, search_cv_forest_down.best_estimator_.predict(X_test)),\n",
    "                             f1_forest_down_valid],\n",
    "              'gboosting_up':[f1_gboost_up_test, f1_gboost_up_valid],\n",
    "              'gboosting_down':[f1_gboost_down_test, f1_gboost_down_valid]\n",
    "              }).rename({0:'f1_test', \n",
    "                         1:'f1_valid'}).describe().loc[['std', 'mean'], :]"
   ]
  },
  {
   "cell_type": "markdown",
   "metadata": {},
   "source": [
    "**Итог тестирования моделей**\n",
    "\n",
    "В ходе тестирования были рассмотрены модели *случайного леса* и *градиентного бустинга* классификации, показавшие наилучшие результаты на валидационной выборке и превысившие допустимый порог значения F1-меры в 0.59.\n",
    "\n",
    "Значения показателей качества (в данном случае F1, AUC-ROC) указанных моделей на тестовой ваборке близки к значениям, полученным на валидационной выборке. Кроме того, показатели качества моделей *случайного леса* и *градиентного бустинга* отличаются друг от друга, а также от используемого метода преобразования тренировочной выборки незначительно.\n",
    "\n",
    "Значения AUC-ROC моделей на тестовой выборке также не являются идеальными, но значительно превышают показатель случайных моделей, равный 0.5.\n",
    "\n",
    "**Для прогнозирования уйдёт клиент из банка в ближайшее время или нет возможно использовать модели *случайного леса* или *градиентного бустинга*, обученные на преобразованных методами upsample и downsample тренировочных выборках с учетом порога классификации.** "
   ]
  },
  {
   "cell_type": "markdown",
   "metadata": {},
   "source": [
    "## Чек-лист готовности проекта"
   ]
  },
  {
   "cell_type": "markdown",
   "metadata": {},
   "source": [
    "Поставьте 'x' в выполненных пунктах. Далее нажмите Shift+Enter."
   ]
  },
  {
   "cell_type": "markdown",
   "metadata": {},
   "source": [
    "- [x]  Jupyter Notebook открыт\n",
    "- [X]  Весь код выполняется без ошибок\n",
    "- [X]  Ячейки с кодом расположены в порядке исполнения\n",
    "- [X]  Выполнен шаг 1: данные подготовлены\n",
    "- [X]  Выполнен шаг 2: задача исследована\n",
    "    - [X]  Исследован баланс классов\n",
    "    - [X]  Изучены модели без учёта дисбаланса\n",
    "    - [X]  Написаны выводы по результатам исследования\n",
    "- [X]  Выполнен шаг 3: учтён дисбаланс\n",
    "    - [X]  Применено несколько способов борьбы с дисбалансом\n",
    "    - [X]  Написаны выводы по результатам исследования\n",
    "- [X]  Выполнен шаг 4: проведено тестирование\n",
    "- [X]  Удалось достичь *F1*-меры не менее 0.59\n",
    "- [X]  Исследована метрика *AUC-ROC*"
   ]
  }
 ],
 "metadata": {
  "ExecuteTimeLog": [
   {
    "duration": 2882,
    "start_time": "2023-04-21T10:03:55.353Z"
   },
   {
    "duration": 248,
    "start_time": "2023-04-21T10:03:58.237Z"
   },
   {
    "duration": 0,
    "start_time": "2023-04-21T10:03:58.489Z"
   },
   {
    "duration": 0,
    "start_time": "2023-04-21T10:03:58.491Z"
   },
   {
    "duration": 0,
    "start_time": "2023-04-21T10:03:58.493Z"
   },
   {
    "duration": 0,
    "start_time": "2023-04-21T10:03:58.495Z"
   },
   {
    "duration": 0,
    "start_time": "2023-04-21T10:03:58.497Z"
   },
   {
    "duration": 0,
    "start_time": "2023-04-21T10:03:58.498Z"
   },
   {
    "duration": 0,
    "start_time": "2023-04-21T10:03:58.499Z"
   },
   {
    "duration": 0,
    "start_time": "2023-04-21T10:03:58.519Z"
   },
   {
    "duration": 0,
    "start_time": "2023-04-21T10:03:58.520Z"
   },
   {
    "duration": 0,
    "start_time": "2023-04-21T10:03:58.522Z"
   },
   {
    "duration": 0,
    "start_time": "2023-04-21T10:03:58.526Z"
   },
   {
    "duration": 0,
    "start_time": "2023-04-21T10:03:58.527Z"
   },
   {
    "duration": 0,
    "start_time": "2023-04-21T10:03:58.529Z"
   },
   {
    "duration": 0,
    "start_time": "2023-04-21T10:03:58.530Z"
   },
   {
    "duration": 0,
    "start_time": "2023-04-21T10:03:58.531Z"
   },
   {
    "duration": 0,
    "start_time": "2023-04-21T10:03:58.532Z"
   },
   {
    "duration": 0,
    "start_time": "2023-04-21T10:03:58.533Z"
   },
   {
    "duration": 0,
    "start_time": "2023-04-21T10:03:58.535Z"
   },
   {
    "duration": 0,
    "start_time": "2023-04-21T10:03:58.537Z"
   },
   {
    "duration": 0,
    "start_time": "2023-04-21T10:03:58.538Z"
   },
   {
    "duration": 0,
    "start_time": "2023-04-21T10:03:58.540Z"
   },
   {
    "duration": 0,
    "start_time": "2023-04-21T10:03:58.541Z"
   },
   {
    "duration": 0,
    "start_time": "2023-04-21T10:03:58.543Z"
   },
   {
    "duration": 0,
    "start_time": "2023-04-21T10:03:58.545Z"
   },
   {
    "duration": 0,
    "start_time": "2023-04-21T10:03:58.546Z"
   },
   {
    "duration": 1,
    "start_time": "2023-04-21T10:03:58.547Z"
   },
   {
    "duration": 0,
    "start_time": "2023-04-21T10:03:58.549Z"
   },
   {
    "duration": 0,
    "start_time": "2023-04-21T10:03:58.551Z"
   },
   {
    "duration": 0,
    "start_time": "2023-04-21T10:03:58.552Z"
   },
   {
    "duration": 0,
    "start_time": "2023-04-21T10:03:58.554Z"
   },
   {
    "duration": 0,
    "start_time": "2023-04-21T10:03:58.555Z"
   },
   {
    "duration": 0,
    "start_time": "2023-04-21T10:03:58.557Z"
   },
   {
    "duration": 0,
    "start_time": "2023-04-21T10:03:58.558Z"
   },
   {
    "duration": 0,
    "start_time": "2023-04-21T10:03:58.619Z"
   },
   {
    "duration": 0,
    "start_time": "2023-04-21T10:03:58.620Z"
   },
   {
    "duration": 0,
    "start_time": "2023-04-21T10:03:58.621Z"
   },
   {
    "duration": 0,
    "start_time": "2023-04-21T10:03:58.623Z"
   },
   {
    "duration": 0,
    "start_time": "2023-04-21T10:03:58.625Z"
   },
   {
    "duration": 0,
    "start_time": "2023-04-21T10:03:58.626Z"
   },
   {
    "duration": 0,
    "start_time": "2023-04-21T10:03:58.628Z"
   },
   {
    "duration": 0,
    "start_time": "2023-04-21T10:03:58.629Z"
   },
   {
    "duration": 0,
    "start_time": "2023-04-21T10:03:58.631Z"
   },
   {
    "duration": 0,
    "start_time": "2023-04-21T10:03:58.632Z"
   },
   {
    "duration": 0,
    "start_time": "2023-04-21T10:03:58.634Z"
   },
   {
    "duration": 0,
    "start_time": "2023-04-21T10:03:58.635Z"
   },
   {
    "duration": 0,
    "start_time": "2023-04-21T10:03:58.636Z"
   },
   {
    "duration": 0,
    "start_time": "2023-04-21T10:03:58.637Z"
   },
   {
    "duration": 0,
    "start_time": "2023-04-21T10:03:58.638Z"
   },
   {
    "duration": 0,
    "start_time": "2023-04-21T10:03:58.639Z"
   },
   {
    "duration": 0,
    "start_time": "2023-04-21T10:03:58.640Z"
   },
   {
    "duration": 0,
    "start_time": "2023-04-21T10:03:58.641Z"
   },
   {
    "duration": 0,
    "start_time": "2023-04-21T10:03:58.643Z"
   },
   {
    "duration": 0,
    "start_time": "2023-04-21T10:03:58.644Z"
   },
   {
    "duration": 0,
    "start_time": "2023-04-21T10:03:58.645Z"
   },
   {
    "duration": 0,
    "start_time": "2023-04-21T10:03:58.646Z"
   },
   {
    "duration": 1,
    "start_time": "2023-04-21T10:03:58.646Z"
   },
   {
    "duration": 0,
    "start_time": "2023-04-21T10:03:58.647Z"
   },
   {
    "duration": 0,
    "start_time": "2023-04-21T10:03:58.648Z"
   },
   {
    "duration": 0,
    "start_time": "2023-04-21T10:03:58.649Z"
   },
   {
    "duration": 0,
    "start_time": "2023-04-21T10:03:58.650Z"
   },
   {
    "duration": 0,
    "start_time": "2023-04-21T10:03:58.651Z"
   },
   {
    "duration": 0,
    "start_time": "2023-04-21T10:03:58.652Z"
   },
   {
    "duration": 0,
    "start_time": "2023-04-21T10:03:58.654Z"
   },
   {
    "duration": 0,
    "start_time": "2023-04-21T10:03:58.719Z"
   },
   {
    "duration": 2746,
    "start_time": "2023-04-21T10:04:36.925Z"
   },
   {
    "duration": 121,
    "start_time": "2023-04-21T10:04:39.673Z"
   },
   {
    "duration": 15,
    "start_time": "2023-04-21T10:04:39.796Z"
   },
   {
    "duration": 17,
    "start_time": "2023-04-21T10:04:39.814Z"
   },
   {
    "duration": 11,
    "start_time": "2023-04-21T10:04:39.832Z"
   },
   {
    "duration": 9,
    "start_time": "2023-04-21T10:04:39.844Z"
   },
   {
    "duration": 43,
    "start_time": "2023-04-21T10:04:39.855Z"
   },
   {
    "duration": 5,
    "start_time": "2023-04-21T10:04:39.900Z"
   },
   {
    "duration": 13,
    "start_time": "2023-04-21T10:04:39.906Z"
   },
   {
    "duration": 8,
    "start_time": "2023-04-21T10:04:39.921Z"
   },
   {
    "duration": 7,
    "start_time": "2023-04-21T10:04:39.930Z"
   },
   {
    "duration": 18,
    "start_time": "2023-04-21T10:04:39.939Z"
   },
   {
    "duration": 12,
    "start_time": "2023-04-21T10:04:39.959Z"
   },
   {
    "duration": 15,
    "start_time": "2023-04-21T10:04:39.973Z"
   },
   {
    "duration": 37,
    "start_time": "2023-04-21T10:04:39.989Z"
   },
   {
    "duration": 42,
    "start_time": "2023-04-21T10:04:40.028Z"
   },
   {
    "duration": 18,
    "start_time": "2023-04-21T10:04:40.071Z"
   },
   {
    "duration": 17,
    "start_time": "2023-04-21T10:04:40.090Z"
   },
   {
    "duration": 21,
    "start_time": "2023-04-21T10:04:40.108Z"
   },
   {
    "duration": 1192,
    "start_time": "2023-04-21T10:04:40.131Z"
   },
   {
    "duration": 6,
    "start_time": "2023-04-21T10:04:41.325Z"
   },
   {
    "duration": 19,
    "start_time": "2023-04-21T10:04:41.333Z"
   },
   {
    "duration": 24,
    "start_time": "2023-04-21T10:04:41.354Z"
   },
   {
    "duration": 6,
    "start_time": "2023-04-21T10:04:41.380Z"
   },
   {
    "duration": 8,
    "start_time": "2023-04-21T10:04:41.388Z"
   },
   {
    "duration": 21,
    "start_time": "2023-04-21T10:04:41.398Z"
   },
   {
    "duration": 11,
    "start_time": "2023-04-21T10:04:41.421Z"
   },
   {
    "duration": 6,
    "start_time": "2023-04-21T10:04:41.438Z"
   },
   {
    "duration": 35,
    "start_time": "2023-04-21T10:04:41.446Z"
   },
   {
    "duration": 5,
    "start_time": "2023-04-21T10:04:41.483Z"
   },
   {
    "duration": 50230,
    "start_time": "2023-04-21T10:04:41.490Z"
   },
   {
    "duration": 6,
    "start_time": "2023-04-21T10:05:31.722Z"
   },
   {
    "duration": 45,
    "start_time": "2023-04-21T10:05:31.818Z"
   },
   {
    "duration": 180,
    "start_time": "2023-04-21T10:05:31.865Z"
   },
   {
    "duration": 5,
    "start_time": "2023-04-21T10:05:32.047Z"
   },
   {
    "duration": 19,
    "start_time": "2023-04-21T10:05:32.053Z"
   },
   {
    "duration": 173,
    "start_time": "2023-04-21T10:05:32.074Z"
   },
   {
    "duration": 18,
    "start_time": "2023-04-21T10:05:32.249Z"
   },
   {
    "duration": 52657,
    "start_time": "2023-04-21T10:05:32.268Z"
   },
   {
    "duration": 3,
    "start_time": "2023-04-21T10:06:24.926Z"
   },
   {
    "duration": 51,
    "start_time": "2023-04-21T10:06:24.930Z"
   },
   {
    "duration": 43845,
    "start_time": "2023-04-21T10:06:24.983Z"
   },
   {
    "duration": 87,
    "start_time": "2023-04-21T10:07:08.831Z"
   },
   {
    "duration": 10,
    "start_time": "2023-04-21T10:07:08.920Z"
   },
   {
    "duration": 508,
    "start_time": "2023-04-21T10:07:08.931Z"
   },
   {
    "duration": 5,
    "start_time": "2023-04-21T10:07:09.440Z"
   },
   {
    "duration": 3209,
    "start_time": "2023-04-21T10:07:09.446Z"
   },
   {
    "duration": 3,
    "start_time": "2023-04-21T10:07:12.657Z"
   },
   {
    "duration": 2187,
    "start_time": "2023-04-21T10:07:12.661Z"
   },
   {
    "duration": 2,
    "start_time": "2023-04-21T10:07:14.850Z"
   },
   {
    "duration": 192,
    "start_time": "2023-04-21T10:07:14.854Z"
   },
   {
    "duration": 4,
    "start_time": "2023-04-21T10:07:15.048Z"
   },
   {
    "duration": 55975,
    "start_time": "2023-04-21T10:07:15.053Z"
   },
   {
    "duration": 2,
    "start_time": "2023-04-21T10:08:11.030Z"
   },
   {
    "duration": 25431,
    "start_time": "2023-04-21T10:08:11.034Z"
   },
   {
    "duration": 3,
    "start_time": "2023-04-21T10:08:36.466Z"
   },
   {
    "duration": 696,
    "start_time": "2023-04-21T10:08:36.471Z"
   },
   {
    "duration": 5,
    "start_time": "2023-04-21T10:08:37.169Z"
   },
   {
    "duration": 306288,
    "start_time": "2023-04-21T10:08:37.176Z"
   },
   {
    "duration": 3,
    "start_time": "2023-04-21T10:13:43.466Z"
   },
   {
    "duration": 123331,
    "start_time": "2023-04-21T10:13:43.470Z"
   },
   {
    "duration": 3,
    "start_time": "2023-04-21T10:15:46.802Z"
   },
   {
    "duration": 329,
    "start_time": "2023-04-21T10:15:46.818Z"
   },
   {
    "duration": 85,
    "start_time": "2023-04-21T10:15:47.149Z"
   },
   {
    "duration": 1330,
    "start_time": "2023-04-21T10:15:47.235Z"
   },
   {
    "duration": 590,
    "start_time": "2023-04-21T10:15:48.566Z"
   },
   {
    "duration": 1545,
    "start_time": "2023-04-21T17:13:48.018Z"
   },
   {
    "duration": 127,
    "start_time": "2023-04-21T17:13:49.566Z"
   },
   {
    "duration": 12,
    "start_time": "2023-04-21T17:13:49.695Z"
   },
   {
    "duration": 19,
    "start_time": "2023-04-21T17:13:49.709Z"
   },
   {
    "duration": 8,
    "start_time": "2023-04-21T17:13:49.730Z"
   },
   {
    "duration": 9,
    "start_time": "2023-04-21T17:13:49.739Z"
   },
   {
    "duration": 44,
    "start_time": "2023-04-21T17:13:49.750Z"
   },
   {
    "duration": 5,
    "start_time": "2023-04-21T17:13:49.796Z"
   },
   {
    "duration": 35,
    "start_time": "2023-04-21T17:13:49.802Z"
   },
   {
    "duration": 8,
    "start_time": "2023-04-21T17:13:49.840Z"
   },
   {
    "duration": 10,
    "start_time": "2023-04-21T17:13:49.849Z"
   },
   {
    "duration": 25,
    "start_time": "2023-04-21T17:13:49.861Z"
   },
   {
    "duration": 11,
    "start_time": "2023-04-21T17:13:49.887Z"
   },
   {
    "duration": 9,
    "start_time": "2023-04-21T17:13:49.900Z"
   },
   {
    "duration": 10,
    "start_time": "2023-04-21T17:13:49.911Z"
   },
   {
    "duration": 34,
    "start_time": "2023-04-21T17:13:49.922Z"
   },
   {
    "duration": 20,
    "start_time": "2023-04-21T17:13:49.959Z"
   },
   {
    "duration": 7,
    "start_time": "2023-04-21T17:13:49.980Z"
   },
   {
    "duration": 7,
    "start_time": "2023-04-21T17:13:49.988Z"
   },
   {
    "duration": 1050,
    "start_time": "2023-04-21T17:13:49.996Z"
   },
   {
    "duration": 11,
    "start_time": "2023-04-21T17:13:51.048Z"
   },
   {
    "duration": 35,
    "start_time": "2023-04-21T17:13:51.060Z"
   },
   {
    "duration": 22,
    "start_time": "2023-04-21T17:13:51.097Z"
   },
   {
    "duration": 10,
    "start_time": "2023-04-21T17:13:51.120Z"
   },
   {
    "duration": 17,
    "start_time": "2023-04-21T17:13:51.132Z"
   },
   {
    "duration": 22,
    "start_time": "2023-04-21T17:13:51.151Z"
   },
   {
    "duration": 9,
    "start_time": "2023-04-21T17:13:51.174Z"
   },
   {
    "duration": 3,
    "start_time": "2023-04-21T17:13:51.187Z"
   },
   {
    "duration": 32,
    "start_time": "2023-04-21T17:13:51.192Z"
   },
   {
    "duration": 5,
    "start_time": "2023-04-21T17:13:51.226Z"
   },
   {
    "duration": 35420,
    "start_time": "2023-04-21T17:13:51.232Z"
   },
   {
    "duration": 92,
    "start_time": "2023-04-21T17:14:26.657Z"
   },
   {
    "duration": 16,
    "start_time": "2023-04-21T17:14:26.751Z"
   },
   {
    "duration": 139,
    "start_time": "2023-04-21T17:14:26.768Z"
   },
   {
    "duration": 4,
    "start_time": "2023-04-21T17:14:26.908Z"
   },
   {
    "duration": 15,
    "start_time": "2023-04-21T17:14:26.914Z"
   },
   {
    "duration": 139,
    "start_time": "2023-04-21T17:14:26.931Z"
   },
   {
    "duration": 18,
    "start_time": "2023-04-21T17:14:27.072Z"
   },
   {
    "duration": 45976,
    "start_time": "2023-04-21T17:14:27.092Z"
   },
   {
    "duration": 4,
    "start_time": "2023-04-21T17:15:13.069Z"
   },
   {
    "duration": 56,
    "start_time": "2023-04-21T17:15:13.075Z"
   },
   {
    "duration": 35034,
    "start_time": "2023-04-21T17:15:13.133Z"
   },
   {
    "duration": 3,
    "start_time": "2023-04-21T17:15:48.250Z"
   },
   {
    "duration": 23,
    "start_time": "2023-04-21T17:15:48.254Z"
   },
   {
    "duration": 430,
    "start_time": "2023-04-21T17:15:48.279Z"
   },
   {
    "duration": 5,
    "start_time": "2023-04-21T17:15:48.711Z"
   },
   {
    "duration": 3170,
    "start_time": "2023-04-21T17:15:48.717Z"
   },
   {
    "duration": 2,
    "start_time": "2023-04-21T17:15:51.888Z"
   },
   {
    "duration": 2124,
    "start_time": "2023-04-21T17:15:51.892Z"
   },
   {
    "duration": 2,
    "start_time": "2023-04-21T17:15:54.018Z"
   },
   {
    "duration": 178,
    "start_time": "2023-04-21T17:15:54.022Z"
   },
   {
    "duration": 5,
    "start_time": "2023-04-21T17:15:54.202Z"
   },
   {
    "duration": 56738,
    "start_time": "2023-04-21T17:15:54.208Z"
   },
   {
    "duration": 2,
    "start_time": "2023-04-21T17:16:50.948Z"
   },
   {
    "duration": 24529,
    "start_time": "2023-04-21T17:16:50.951Z"
   },
   {
    "duration": 2,
    "start_time": "2023-04-21T17:17:15.482Z"
   },
   {
    "duration": 604,
    "start_time": "2023-04-21T17:17:15.486Z"
   },
   {
    "duration": 5,
    "start_time": "2023-04-21T17:17:16.091Z"
   },
   {
    "duration": 304750,
    "start_time": "2023-04-21T17:17:16.098Z"
   },
   {
    "duration": 5,
    "start_time": "2023-04-21T17:22:20.856Z"
   },
   {
    "duration": 120799,
    "start_time": "2023-04-21T17:22:20.862Z"
   },
   {
    "duration": 3,
    "start_time": "2023-04-21T17:24:21.662Z"
   },
   {
    "duration": 296,
    "start_time": "2023-04-21T17:24:21.667Z"
   },
   {
    "duration": 58,
    "start_time": "2023-04-21T17:24:21.964Z"
   },
   {
    "duration": 1048,
    "start_time": "2023-04-21T17:24:22.023Z"
   },
   {
    "duration": 492,
    "start_time": "2023-04-21T17:24:23.072Z"
   },
   {
    "duration": 7,
    "start_time": "2023-04-21T17:26:24.294Z"
   },
   {
    "duration": 6,
    "start_time": "2023-04-21T17:26:36.318Z"
   },
   {
    "duration": 127,
    "start_time": "2023-04-21T17:26:40.611Z"
   },
   {
    "duration": 6,
    "start_time": "2023-04-21T17:27:16.214Z"
   },
   {
    "duration": 16,
    "start_time": "2023-04-21T17:27:20.490Z"
   },
   {
    "duration": 8,
    "start_time": "2023-04-21T17:27:41.274Z"
   },
   {
    "duration": 5,
    "start_time": "2023-04-21T17:28:27.001Z"
   },
   {
    "duration": 121,
    "start_time": "2023-04-21T17:28:32.024Z"
   },
   {
    "duration": 5,
    "start_time": "2023-04-21T17:30:17.390Z"
   },
   {
    "duration": 7,
    "start_time": "2023-04-21T17:30:44.082Z"
   },
   {
    "duration": 5,
    "start_time": "2023-04-21T17:30:52.204Z"
   },
   {
    "duration": 113,
    "start_time": "2023-04-21T17:30:53.290Z"
   },
   {
    "duration": 6,
    "start_time": "2023-04-21T17:34:04.482Z"
   },
   {
    "duration": 116,
    "start_time": "2023-04-21T17:34:06.682Z"
   },
   {
    "duration": 16,
    "start_time": "2023-04-21T17:34:24.490Z"
   },
   {
    "duration": 4,
    "start_time": "2023-04-21T17:35:20.346Z"
   },
   {
    "duration": 69,
    "start_time": "2023-04-21T17:35:20.357Z"
   },
   {
    "duration": 12,
    "start_time": "2023-04-21T17:35:20.428Z"
   },
   {
    "duration": 27,
    "start_time": "2023-04-21T17:35:20.441Z"
   },
   {
    "duration": 17,
    "start_time": "2023-04-21T17:35:20.469Z"
   },
   {
    "duration": 33,
    "start_time": "2023-04-21T17:35:20.487Z"
   },
   {
    "duration": 38,
    "start_time": "2023-04-21T17:35:20.522Z"
   },
   {
    "duration": 3,
    "start_time": "2023-04-21T17:35:20.562Z"
   },
   {
    "duration": 7,
    "start_time": "2023-04-21T17:35:20.567Z"
   },
   {
    "duration": 7,
    "start_time": "2023-04-21T17:35:20.576Z"
   },
   {
    "duration": 12,
    "start_time": "2023-04-21T17:35:20.585Z"
   },
   {
    "duration": 14,
    "start_time": "2023-04-21T17:35:20.598Z"
   },
   {
    "duration": 11,
    "start_time": "2023-04-21T17:35:20.614Z"
   },
   {
    "duration": 32,
    "start_time": "2023-04-21T17:35:20.626Z"
   },
   {
    "duration": 11,
    "start_time": "2023-04-21T17:35:20.660Z"
   },
   {
    "duration": 11,
    "start_time": "2023-04-21T17:35:20.672Z"
   },
   {
    "duration": 11,
    "start_time": "2023-04-21T17:35:20.684Z"
   },
   {
    "duration": 8,
    "start_time": "2023-04-21T17:35:20.697Z"
   },
   {
    "duration": 9,
    "start_time": "2023-04-21T17:35:20.707Z"
   },
   {
    "duration": 975,
    "start_time": "2023-04-21T17:35:20.717Z"
   },
   {
    "duration": 6,
    "start_time": "2023-04-21T17:35:21.695Z"
   },
   {
    "duration": 11,
    "start_time": "2023-04-21T17:35:21.702Z"
   },
   {
    "duration": 12,
    "start_time": "2023-04-21T17:35:21.715Z"
   },
   {
    "duration": 5,
    "start_time": "2023-04-21T17:35:21.729Z"
   },
   {
    "duration": 4,
    "start_time": "2023-04-21T17:35:21.749Z"
   },
   {
    "duration": 14,
    "start_time": "2023-04-21T17:35:21.754Z"
   },
   {
    "duration": 16,
    "start_time": "2023-04-21T17:35:21.769Z"
   },
   {
    "duration": 81,
    "start_time": "2023-04-21T17:35:21.786Z"
   },
   {
    "duration": 41,
    "start_time": "2023-04-21T17:35:21.868Z"
   },
   {
    "duration": 6,
    "start_time": "2023-04-21T17:35:21.910Z"
   },
   {
    "duration": 40937,
    "start_time": "2023-04-21T17:35:21.918Z"
   },
   {
    "duration": 96,
    "start_time": "2023-04-21T17:36:02.857Z"
   },
   {
    "duration": 131,
    "start_time": "2023-04-21T17:36:02.958Z"
   },
   {
    "duration": 151,
    "start_time": "2023-04-21T17:36:03.090Z"
   },
   {
    "duration": 7,
    "start_time": "2023-04-21T17:36:03.242Z"
   },
   {
    "duration": 21,
    "start_time": "2023-04-21T17:36:03.250Z"
   },
   {
    "duration": 135,
    "start_time": "2023-04-21T17:36:03.272Z"
   },
   {
    "duration": 16,
    "start_time": "2023-04-21T17:36:03.409Z"
   },
   {
    "duration": 42630,
    "start_time": "2023-04-21T17:36:03.427Z"
   },
   {
    "duration": 3,
    "start_time": "2023-04-21T17:36:46.058Z"
   },
   {
    "duration": 14,
    "start_time": "2023-04-21T17:36:46.062Z"
   },
   {
    "duration": 27480,
    "start_time": "2023-04-21T17:36:46.078Z"
   },
   {
    "duration": 3,
    "start_time": "2023-04-21T17:37:13.649Z"
   },
   {
    "duration": 26,
    "start_time": "2023-04-21T17:37:13.653Z"
   },
   {
    "duration": 6,
    "start_time": "2023-04-21T17:37:24.207Z"
   },
   {
    "duration": 444,
    "start_time": "2023-04-21T17:37:28.378Z"
   },
   {
    "duration": 4,
    "start_time": "2023-04-21T17:37:33.351Z"
   },
   {
    "duration": 3296,
    "start_time": "2023-04-21T17:37:38.829Z"
   },
   {
    "duration": 2,
    "start_time": "2023-04-21T17:37:42.127Z"
   },
   {
    "duration": 1931,
    "start_time": "2023-04-21T17:37:46.198Z"
   },
   {
    "duration": 3,
    "start_time": "2023-04-21T17:37:48.130Z"
   },
   {
    "duration": 188,
    "start_time": "2023-04-21T17:37:53.571Z"
   },
   {
    "duration": 5,
    "start_time": "2023-04-21T17:37:56.992Z"
   },
   {
    "duration": 61971,
    "start_time": "2023-04-21T17:37:59.613Z"
   },
   {
    "duration": 4,
    "start_time": "2023-04-21T17:39:01.585Z"
   },
   {
    "duration": 23974,
    "start_time": "2023-04-21T17:39:14.044Z"
   },
   {
    "duration": 3,
    "start_time": "2023-04-21T17:39:38.020Z"
   },
   {
    "duration": 858,
    "start_time": "2023-04-21T17:39:40.932Z"
   },
   {
    "duration": 5,
    "start_time": "2023-04-21T17:39:53.879Z"
   },
   {
    "duration": 337581,
    "start_time": "2023-04-21T17:39:55.894Z"
   },
   {
    "duration": 4,
    "start_time": "2023-04-21T17:45:33.476Z"
   },
   {
    "duration": 94461,
    "start_time": "2023-04-21T17:45:33.481Z"
   },
   {
    "duration": 6,
    "start_time": "2023-04-21T17:47:07.943Z"
   },
   {
    "duration": 292,
    "start_time": "2023-04-21T18:04:57.300Z"
   },
   {
    "duration": 24,
    "start_time": "2023-04-21T18:05:45.297Z"
   },
   {
    "duration": 1743,
    "start_time": "2023-04-21T18:06:02.733Z"
   },
   {
    "duration": 756,
    "start_time": "2023-04-21T18:06:17.051Z"
   }
  ],
  "kernelspec": {
   "display_name": "Python 3 (ipykernel)",
   "language": "python",
   "name": "python3"
  },
  "language_info": {
   "codemirror_mode": {
    "name": "ipython",
    "version": 3
   },
   "file_extension": ".py",
   "mimetype": "text/x-python",
   "name": "python",
   "nbconvert_exporter": "python",
   "pygments_lexer": "ipython3",
   "version": "3.9.13"
  },
  "toc": {
   "base_numbering": 1,
   "nav_menu": {},
   "number_sections": true,
   "sideBar": true,
   "skip_h1_title": true,
   "title_cell": "Содержание",
   "title_sidebar": "Contents",
   "toc_cell": true,
   "toc_position": {},
   "toc_section_display": true,
   "toc_window_display": true
  }
 },
 "nbformat": 4,
 "nbformat_minor": 2
}
